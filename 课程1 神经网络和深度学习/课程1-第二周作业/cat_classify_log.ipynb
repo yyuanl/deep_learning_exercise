{
 "cells": [
  {
   "cell_type": "code",
   "execution_count": null,
   "metadata": {},
   "outputs": [],
   "source": [
    "# 导入一些必要的库\n",
    "import numpy as np\n",
    "import h5py\n",
    "import matplotlib.pyplot as plt\n",
    "from lr_utils import load_dataset"
   ]
  },
  {
   "cell_type": "code",
   "execution_count": null,
   "metadata": {},
   "outputs": [],
   "source": [
    "train_set_x_orig, train_set_y, test_set_x_orig, test_set_y, classes = load_dataset()  #加载训练、测试数据\n",
    "\n",
    "# 看看训练数据样子\n",
    "print('x.shape = {}\\ny.shape = {}\\nclasses = {}'.format(train_set_x_orig.shape, train_set_y.shape, classes)) #看看数据是什么大小\n",
    "\n",
    "index = 25\n",
    "plt.imshow(train_set_x_orig[index])  # 把第25张图片打印出来看看\n",
    "print(train_set_y[0, 1:5])\n",
    "ind = np.squeeze(train_set_y[0,index]) #获得第25张图片对应的标签值，squeeze是去掉矩阵的方括号的作用\n",
    "print(\"The picture's label is y = {},and it's a {} picture\".format(train_set_y[0, index], classes[ind].decode('utf-8')))"
   ]
  },
  {
   "cell_type": "code",
   "execution_count": null,
   "metadata": {},
   "outputs": [],
   "source": [
    "# 处理数据，使得：1.图片集成为一个矩阵，该矩阵每列代表一张图片，列数代表图片数量 2.标签成为行向量，每列数字是对应的标签值\n",
    "x_train_num = train_set_x_orig.shape[0]\n",
    "x_train_h = train_set_x_orig.shape[1]\n",
    "x_train_w = train_set_x_orig.shape[2]\n",
    "x_train_c = train_set_x_orig.shape[3]\n",
    "x_train_size = x_train_h*x_train_w*x_train_c\n",
    "\n",
    "x_test_shape = test_set_x_orig.shape\n",
    "x_test_num = test_shape[0]\n",
    "x_test_h = test_shape[1]\n",
    "x_test_w = test_shape[2]\n",
    "x_test_c = test_shape[3]\n",
    "x_test_size = x_test_h*x_test_w*x_test_c\n",
    "\n",
    "x_train_flatten = train_set_x_orig.reshape((x_train_num, -1)).T  #将图片压扁成一维行向量,每列是一张图片,也可以这样写，-1表示可以计算这个维度，不用显式表示\n",
    "x_test_flatten = test_set_x_orig.reshape((test_num, -1)).T  \n",
    "x_train_flatten = x_train_flatten / 255  #像素值压缩到0到1之间\n",
    "x_test_flatten = x_test_flatten / 255\n",
    "\n",
    "y_train = train_set_y.reshape((1, train_set_y.shape[1])).T  #列向量\n",
    "y_test = test_set_y.reshape((1, test_set_y.shape[1])).T\n",
    "\n",
    "print(x_train_flatten.shape)\n",
    "\n",
    "assert(x_train_flatten.shape == (x_train_size, x_train_num))"
   ]
  },
  {
   "cell_type": "code",
   "execution_count": null,
   "metadata": {},
   "outputs": [],
   "source": [
    "def sigmoid(z):\n",
    "    s = 1 / (1 + np.exp(-z))\n",
    "    return s"
   ]
  },
  {
   "cell_type": "code",
   "execution_count": null,
   "metadata": {},
   "outputs": [],
   "source": [
    "def initialize(dim):\n",
    "    w = np.zeros(shape = (dim, 1))\n",
    "    b = 0\n",
    "    assert(w.shape == (dim, 1))\n",
    "    assert(isinstance(b, int) or isinstance(b, float))\n",
    "    return (w, b)\n",
    "    "
   ]
  },
  {
   "cell_type": "code",
   "execution_count": null,
   "metadata": {},
   "outputs": [],
   "source": [
    "# 前向传播，计算模型值，计算当前参数预测的loss\n",
    "def Loss(x, w, b, y):  #x一列是一张图片，w是列向量， y是列向量\n",
    "    m = x.shape[1]\n",
    "    h_x = sigmoid(np.dot(x.T, w) + b)\n",
    "    #print('*******',h_x)\n",
    "    cost = -1/m * (np.dot(y.T, np.log(h_x)) + np.dot(1 - y.T, np.log(1 - h_x)))\n",
    "    # cost = (- 1 / m) * np.sum(y * np.log(h_x) + (1 - y) * (np.log(1 - h_x)))\n",
    "    # print('{}\\n'.format(h_x[1:10]))\n",
    "    #print(y.T.shape)\n",
    "    #print(h_x.shape)\n",
    "    cost = np.squeeze(cost)\n",
    "    return (h_x, cost)"
   ]
  },
  {
   "cell_type": "code",
   "execution_count": null,
   "metadata": {},
   "outputs": [],
   "source": [
    "w, b, X, Y = np.array([[1], [2]]), 2, np.array([[1,2], [3,4]]), np.array([[1, 0]]).T\n",
    "h_x, cost = Loss(X,w, b, Y)\n",
    "print(cost)"
   ]
  },
  {
   "cell_type": "code",
   "execution_count": null,
   "metadata": {},
   "outputs": [],
   "source": [
    "# 计算参数偏导数\n",
    "def delat(x, w, b, y): #h_x是列向量，y是列向量\n",
    "    #print('{}x.shape = {}'.format('*-*'*10,x.shape))\n",
    "    #print('{}w.shape = {}'.format('*-*'*10,w.shape))\n",
    "    m =x.shape[1]\n",
    "    h_x, _ = Loss(x, w, b, y)\n",
    "    dz = h_x - y\n",
    "    #print('{}dz.shape = {}'.format('*-*'*10,dz.shape))\n",
    "    assert(dz.shape == (m, 1))\n",
    "    dw = 1/m * np.dot(x, dz)\n",
    "    db = 1/m * np.sum(dz)\n",
    "    delat_parameter = {'delta_w':dw, 'delta_b':db}\n",
    "    return delat_parameter  "
   ]
  },
  {
   "cell_type": "code",
   "execution_count": null,
   "metadata": {},
   "outputs": [],
   "source": [
    "w, b, X, Y = np.array([[1], [2]]), 2, np.array([[1,2], [3,4]]), np.array([[1, 0]])\n",
    "delat_p = delat(X,w,b,Y.T )\n",
    "dw = delat_p['delta_w']\n",
    "print(dw.shape)\n",
    "db = delat_p['delta_b']\n",
    "print('dw = \\n{}\\ndb = {}'.format(dw, db))"
   ]
  },
  {
   "cell_type": "code",
   "execution_count": null,
   "metadata": {},
   "outputs": [],
   "source": [
    "#梯度下降\n",
    "def train(x, y, num_iterations, rate, initial_w, initial_b, print_loss = False):\n",
    "    n = x.shape[0]\n",
    "    w = initial_w\n",
    "    b = initial_b\n",
    "    cost = []\n",
    "    print('{}Start training{}'.format('='*20, '='*20))\n",
    "    print('The times of iteration is :',num_iterations)\n",
    "    for i in range(num_iterations):  \n",
    "        _, loss = Loss(x, w, b, y)       \n",
    "        delat_parameter = delat(x, w, b, y)\n",
    "        dw = delat_parameter['delta_w']\n",
    "        db = delat_parameter['delta_b']\n",
    "        w = w - rate * dw\n",
    "        b = b - rate * db\n",
    "        \n",
    "        if i % 100 == 0:\n",
    "            cost.append(loss)\n",
    "\n",
    "        if print_loss and i % 100 == 0:\n",
    "            print('Iteration ：{} | loss : {}'.format(i, loss))\n",
    "    print('{}training end{}'.format('='*20, '='*20))        \n",
    "    param = {'w':w, 'b':b}\n",
    "    gradient = {'delat_w':dw, 'delat_b':db}\n",
    "    assert(w.shape == (n,1))\n",
    "    return (param, gradient, cost)"
   ]
  },
  {
   "cell_type": "code",
   "execution_count": null,
   "metadata": {},
   "outputs": [],
   "source": [
    "#测试梯度下降\n",
    "w = np.array([1,2])\n",
    "w_in = w.reshape((2, 1))\n",
    "\n",
    "b = 2\n",
    "y = np.array([1,0])\n",
    "y_t = y.reshape((2, 1))\n",
    "\n",
    "x = np.array([1, 2, 3, 4])\n",
    "x_t = x.reshape((2, 2))\n",
    "\n",
    "param, gradient, _ = train(x_t, y_t, 100, 0.009, w_in, b, False)\n",
    "print('w = {}\\nb = {}\\ndw = {}\\ndb = {}'.format(param['w'], param['b'],gradient['delat_w'], gradient['delat_b']))"
   ]
  },
  {
   "cell_type": "code",
   "execution_count": null,
   "metadata": {},
   "outputs": [],
   "source": [
    "def predict(x, w, b):\n",
    "    #print(x.shape)\n",
    "    m = x.shape[1]\n",
    "    pre = np.zeros((m, 1))\n",
    "    z = np.dot(x.T, w) + b\n",
    "    a = sigmoid(z)\n",
    "    for i in range(a.shape[0]):\n",
    "        if a[i, 0] > 0.5: \n",
    "            pre[i, 0] = 1\n",
    "        else:\n",
    "            pre[i, 0] = 0\n",
    "    assert(pre.shape == (m, 1))\n",
    "    return pre\n",
    "    "
   ]
  },
  {
   "cell_type": "code",
   "execution_count": null,
   "metadata": {},
   "outputs": [],
   "source": [
    "# 定义一个大函数，传入训练集、测试集以及训练参数，返回：最终优化的参数值、训练集、测试集上的准确率\n",
    "def model(train_x, train_y, test_x, test_y, num_iterations, rate, print_cost):\n",
    "    initial_w, initial_b = initialize(train_x.shape[0])\n",
    "    param, _ , cost= train(train_x, train_y, num_iterations, rate, initial_w, initial_b, print_cost)\n",
    "    w = param['w']\n",
    "    b = param['b']\n",
    "    \n",
    "    train_pre = predict(train_x, w, b)\n",
    "    test_pre = predict(test_x, w, b)\n",
    "    \n",
    "    accuracy_train_data = str((1 - np.mean(np.abs(train_pre - train_y))) * 100) + '%'\n",
    "    accuracy_test_data = str(1 - np.mean(np.abs(test_pre - test_y))) + '%'\n",
    "    \n",
    "    print('The accuracy in tain data is {}\\nThe accuracy in test data is {}\\n'.format(accuracy_train_data, accuracy_test_data))\n",
    "    \n",
    "    result = {'w':w, 'b':b, 'train_pre':train_pre, 'test_pre':test_pre, 'los':cost, 'rate':rate}\n",
    "    return result    "
   ]
  },
  {
   "cell_type": "code",
   "execution_count": null,
   "metadata": {},
   "outputs": [],
   "source": [
    "print('{}Testing model{}'.format('='*20, '='*20))\n",
    "print('x.shape = {} \\ny.shape = {}'.format(x_train_flatten.shape,  y_train.shape))\n",
    "result = model(x_train_flatten, y_train, x_test_flatten, y_test, num_iterations = 2000, rate = 0.005, print_cost = True)"
   ]
  },
  {
   "cell_type": "code",
   "execution_count": null,
   "metadata": {},
   "outputs": [],
   "source": [
    "#绘制相关图\n",
    "loss = np.squeeze(result['los'])\n",
    "plt.plot(loss)\n",
    "plt.ylabel('cost')\n",
    "plt.xlabel('iterations')\n",
    "plt.title('Learning rate = {}'.format(result['rate']))\n",
    "plt.show()"
   ]
  },
  {
   "cell_type": "code",
   "execution_count": null,
   "metadata": {},
   "outputs": [],
   "source": [
    "learning_rate = [0.01, 0.001, 0.0001]\n",
    "results = { } #空字典,装3个model返回的结果\n",
    "for r in learning_rate:\n",
    "    print('The learning rate is : ', r)\n",
    "    results[str(r)] = model(x_train_flatten, y_train, x_test_flatten, y_test, num_iterations = 2000, rate = r, print_cost = False)\n",
    "    print('{} 这是分割线{}\\n '.format('!*--*! +'*5, '!*--*! +'*5))\n",
    "    \n",
    "for i in learning_rate:\n",
    "    plt.plot(np.squeeze(results[str(i)]['los']), label= str(results[str(i)]['rate']))\n",
    "\n",
    "plt.xlabel('iterations')\n",
    "plt.ylabel('loss')\n",
    "\n",
    "legend = plt.legend(loc = 'upper right', shadow = True) #图例\n",
    "legend.get_frame().set_facecolor('0.50')  #定义图例框背景颜色深浅\n",
    "legend.get_frame().set_linewidth(0)\n",
    "plt.show()\n"
   ]
  }
 ],
 "metadata": {
  "kernelspec": {
   "display_name": "python3.6(py36)",
   "language": "python",
   "name": "py36"
  },
  "language_info": {
   "codemirror_mode": {
    "name": "ipython",
    "version": 3
   },
   "file_extension": ".py",
   "mimetype": "text/x-python",
   "name": "python",
   "nbconvert_exporter": "python",
   "pygments_lexer": "ipython3",
   "version": "3.6.9"
  }
 },
 "nbformat": 4,
 "nbformat_minor": 2
}
