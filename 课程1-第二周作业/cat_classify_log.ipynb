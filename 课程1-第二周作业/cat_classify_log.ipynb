{
 "cells": [
  {
   "cell_type": "code",
   "execution_count": null,
   "metadata": {},
   "outputs": [],
   "source": [
    "import numpy as np\n",
    "import h5py\n",
    "import matplotlib.pyplot as plt\n",
    "from lr_utils import load_dataset\n",
    "\n",
    "train_set_x_orig, train_set_y, test_set_x_orig, test_set_y, classes = load_dataset()\n",
    "print('x.shape = {}\\ny.shape = {}\\nclasses = {}'.format(train_set_x_orig.shape, train_set_y.shape, classes)) #看看数据是什么大小\n",
    "\n",
    "index = 25\n",
    "plt.imshow(train_set_x_orig[index])\n",
    "\n",
    "train_set_y = train_set_y.reshape((1, len(train_set_x_orig))) #转化为行向量\n",
    "print(train_set_y[0, 1:5])\n",
    "\n",
    "assert(train_set_y.shape == (1, 209))\n",
    "\n",
    "ind = np.squeeze(train_set_y[0,index]) #获得标签\n",
    "\n",
    "print(\"The picture's label is y = {},and it's a {} picture\".format(train_set_y[0, index], classes[ind].decode('utf-8')))\n"
   ]
  },
  {
   "cell_type": "code",
   "execution_count": null,
   "metadata": {},
   "outputs": [],
   "source": [
    "x_num = train_set_x_orig.shape[0]\n",
    "x_h = train_set_x_orig.shape[1]\n",
    "x_w = train_set_x_orig.shape[2]\n",
    "x_c = train_set_x_orig.shape[3]\n",
    "\n",
    "test_shape = test_set_x_orig.shape\n",
    "test_num = test_shape[0]\n",
    "test_h = test_shape[1]\n",
    "test_w = test_shape[2]\n",
    "test_c = test_shape[3]\n",
    "\n",
    "x_flatten = train_set_x_orig.reshape((x_num, x_h*x_w*x_c))  #将图片压扁成一维行向量\n",
    "test_flatten = test_set_x_orig.reshape((test_num, -1))\n",
    "# train_set_x_flatten  = train_set_x_orig.reshape(train_set_x_orig.shape[0],-1) #也可以这样写，-1表示可以计算这个维度，不用显式表示\n",
    "print(x_flatten.shape)\n",
    "print(test_flatten.shape)\n",
    "print(x_flatten[1, 1000:1030])"
   ]
  },
  {
   "cell_type": "code",
   "execution_count": null,
   "metadata": {},
   "outputs": [],
   "source": []
  },
  {
   "cell_type": "code",
   "execution_count": null,
   "metadata": {},
   "outputs": [],
   "source": []
  }
 ],
 "metadata": {
  "kernelspec": {
   "display_name": "python3.6(py36)",
   "language": "python",
   "name": "py36"
  },
  "language_info": {
   "codemirror_mode": {
    "name": "ipython",
    "version": 3
   },
   "file_extension": ".py",
   "mimetype": "text/x-python",
   "name": "python",
   "nbconvert_exporter": "python",
   "pygments_lexer": "ipython3",
   "version": "3.6.9"
  }
 },
 "nbformat": 4,
 "nbformat_minor": 2
}
