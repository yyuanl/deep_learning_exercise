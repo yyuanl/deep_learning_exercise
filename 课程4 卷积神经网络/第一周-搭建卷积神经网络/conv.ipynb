{
 "cells": [
  {
   "cell_type": "code",
   "execution_count": null,
   "metadata": {},
   "outputs": [],
   "source": [
    "import numpy as np\n",
    "import h5py\n",
    "import matplotlib.pyplot as plt\n",
    "%matplotlib inline\n",
    "plt.rcParams['figure.figsize'] = (5.0, 4.0)\n",
    "plt.rcParams['image.interpolation'] = 'nearest'\n",
    "plt.rcParams['image.cmap'] = 'gray'\n",
    "\n",
    "%load_ext autoreload\n",
    "%autoreload 2\n",
    "np.random.seed(1)"
   ]
  },
  {
   "cell_type": "markdown",
   "metadata": {},
   "source": [
    "卷积：\n",
    "1. padding \n",
    "  np.pad(X, ((0, 0), (pad, pad), (pad, pad), (0, 0)), 'constant', constant_values = 0)\n",
    "  参数含义：(padding谁， 沿那个轴padding、padding多少， padding方式， padding的值)"
   ]
  },
  {
   "cell_type": "code",
   "execution_count": null,
   "metadata": {},
   "outputs": [],
   "source": [
    "def zero_pad(X,pad):\n",
    "#     X_paded = np.pad(X, ((0, 0), (pad, pad), (pad, pad), (0, 0)), 'constant', constant_values = 0)    \n",
    "    X_paded = np.pad(X,(\n",
    "                        (0,0),       #样本数，不填充\n",
    "                        (pad,pad),   #图像高度,你可以视为上面填充x个，下面填充y个(x,y)\n",
    "                        (pad,pad),   #图像宽度,你可以视为左边填充x个，右边填充y个(x,y)\n",
    "                        (0,0)),      #通道数，不填充\n",
    "                        'constant', constant_values=0)      #连续一样的值填充\n",
    "    return X_paded"
   ]
  },
  {
   "cell_type": "code",
   "execution_count": null,
   "metadata": {},
   "outputs": [],
   "source": [
    "np.random.seed(1)\n",
    "x = np.random.randn(4,3,3,2)\n",
    "x_paded = zero_pad(x,2)\n",
    "#查看信息\n",
    "print (\"x.shape =\", x.shape)\n",
    "print (\"x_paded.shape =\", x_paded.shape)\n",
    "print (\"x[1, 1] =\", x[1, 1])\n",
    "print (\"x_paded[1, 1] =\", x_paded[1, 1])\n",
    "\n",
    "#绘制图\n",
    "fig , axarr = plt.subplots(1,2)  #一行两列\n",
    "axarr[0].set_title('x')\n",
    "axarr[0].imshow(x[0,:,:,0])\n",
    "axarr[1].set_title('x_paded')\n",
    "axarr[1].imshow(x_paded[0,:,:,0])"
   ]
  },
  {
   "cell_type": "code",
   "execution_count": null,
   "metadata": {},
   "outputs": [],
   "source": [
    "def conv_single_step(a_slice_prev, W, b):  #  取出来的3维长方体和W的大小相同，做卷积，每个通道变成一个数，所有通道再相加，就是最后卷积值\n",
    "    s = np.multiply(a_slice_prev, W) + b\n",
    "    Z = np.sum(s)\n",
    "    return Z\n",
    "np.random.seed(1)\n",
    "\n",
    "#这里切片大小和过滤器大小相同\n",
    "a_slice_prev = np.random.randn(4,4,3)\n",
    "W = np.random.randn(4,4,3)\n",
    "b = np.random.randn(1,1,1)\n",
    "\n",
    "Z = conv_single_step(a_slice_prev,W,b)\n",
    "\n",
    "print(\"Z = \" + str(Z))\n",
    "\n",
    "\n"
   ]
  },
  {
   "cell_type": "code",
   "execution_count": null,
   "metadata": {},
   "outputs": [],
   "source": [
    "def conv_forward(A_prev, W, b, hparameters):\n",
    "    (m, n_H_prev, n_W_prev, n_C_prev) = A_prev.shape\n",
    "    (f, f, n_C_prev, n_C) = W.shape\n",
    "    pad = hparameters[\"pad\"]\n",
    "    stride = hparameters[\"stride\"]\n",
    "    A_prev_pad = zero_pad(A_prev, pad)\n",
    "    \n",
    "    n_H = int((n_H_prev + 2 * pad - f) / stride) + 1\n",
    "    n_W = int((n_W_prev + 2 * pad - f) / stride) + 1\n",
    "    Z = np.zeros((m, n_H, n_W, n_C))\n",
    "    for i in range(m):\n",
    "        i_A_prev_pad = A_prev_pad[i] # 取出第i个padding的图像\n",
    "        for h in range(n_H):\n",
    "            for w in range(n_W):\n",
    "                for c in range(n_C):\n",
    "                    vert_start = stride * h\n",
    "                    vert_end = vert_start + f\n",
    "                    horiz_start = stride * w\n",
    "                    horiz_end = horiz_start + f\n",
    "                    a_slice_prev = i_A_prev_pad[vert_start:vert_end, horiz_start:horiz_end, :]  #取出小长条，所有通道的小图块堆叠成的\n",
    "                    Z[i, h, w, c] = conv_single_step(a_slice_prev, W[:, :, :, c], b[0, 0, 0, c])\n",
    "    \n",
    "    assert(Z.shape == (m, n_H, n_W, n_C))\n",
    "    cache = (A_prev, W, b, hparameters)                \n",
    "    return (Z , cache)"
   ]
  },
  {
   "cell_type": "code",
   "execution_count": null,
   "metadata": {},
   "outputs": [],
   "source": [
    "np.random.seed(1)\n",
    "\n",
    "A_prev = np.random.randn(10,4,4,3)\n",
    "W = np.random.randn(2,2,3,8)\n",
    "b = np.random.randn(1,1,1,8)\n",
    "\n",
    "hparameters = {\"pad\" : 2, \"stride\": 1}\n",
    "\n",
    "Z , cache_conv = conv_forward(A_prev,W,b,hparameters)\n",
    "\n",
    "print(\"np.mean(Z) = \", np.mean(Z))\n",
    "print(\"cache_conv[0][1][2][3] =\", cache_conv[0][1][2][3])"
   ]
  },
  {
   "cell_type": "code",
   "execution_count": null,
   "metadata": {},
   "outputs": [],
   "source": [
    "def pool_forward(A_prev,hparameters,mode=\"max\"):\n",
    "    m, n_H_prev, n_W_prev, n_C_prev = A_prev.shape\n",
    "    f = hparameters[\"f\"]\n",
    "    stride = hparameters[\"stride\"]\n",
    "    n_H = int((n_H_prev - f) / stride) + 1\n",
    "    n_W = int((n_W_prev - f) / stride) + 1\n",
    "    n_C = n_C_prev  #池化层通道数不变，只是每个通道尺寸变小\n",
    "    A = np.zeros((m, n_H, n_W, n_C))\n",
    "    for i in range(m):\n",
    "        i_image = A_prev[i,:,:,:] #取出第i个\n",
    "        for h in range(n_H):\n",
    "            for w in range(n_W):\n",
    "                for c in range(n_C):\n",
    "                    h_start = h * stride\n",
    "                    h_end = h_start + f\n",
    "                    w_start = w * stride\n",
    "                    w_end = w_start + f\n",
    "                    a_slice_prev = A_prev[i, h_start:h_end, w_start:w_end, c]  # 取出小长条,进行pooling操作\n",
    "                    \n",
    "                    if mode == \"max\":\n",
    "                        A[i, h, w, c] = np.max(a_slice_prev)  #numpy基本函数，取最大值\n",
    "                    if mode == \"average\":\n",
    "                        A[i, h, w, c] = np.mean(a_slice_prev)\n",
    "    assert(A.shape == (m, n_H, n_W, n_C)) \n",
    "    cache = (A_prev, hparameters)\n",
    "    return A,cache"
   ]
  },
  {
   "cell_type": "code",
   "execution_count": null,
   "metadata": {},
   "outputs": [],
   "source": [
    "np.random.seed(1)\n",
    "A_prev = np.random.randn(2,4,4,3)\n",
    "hparameters = {\"f\":4 , \"stride\":1}\n",
    "\n",
    "A , cache = pool_forward(A_prev,hparameters,mode=\"max\")\n",
    "A, cache = pool_forward(A_prev, hparameters)\n",
    "print(\"mode = max\")\n",
    "print(\"A =\", A)\n",
    "print(\"----------------------------\")\n",
    "A, cache = pool_forward(A_prev, hparameters, mode = \"average\")\n",
    "print(\"mode = average\")\n",
    "print(\"A =\", A)"
   ]
  },
  {
   "cell_type": "code",
   "execution_count": null,
   "metadata": {},
   "outputs": [],
   "source": [
    "# 卷积的反向传播原理"
   ]
  },
  {
   "cell_type": "code",
   "execution_count": 3,
   "metadata": {},
   "outputs": [
    {
     "name": "stderr",
     "output_type": "stream",
     "text": [
      "D:\\installFile\\anaconda\\envs\\DL_py36_study\\lib\\site-packages\\tensorflow\\python\\framework\\dtypes.py:516: FutureWarning: Passing (type, 1) or '1type' as a synonym of type is deprecated; in a future version of numpy, it will be understood as (type, (1,)) / '(1,)type'.\n",
      "  _np_qint8 = np.dtype([(\"qint8\", np.int8, 1)])\n",
      "D:\\installFile\\anaconda\\envs\\DL_py36_study\\lib\\site-packages\\tensorflow\\python\\framework\\dtypes.py:517: FutureWarning: Passing (type, 1) or '1type' as a synonym of type is deprecated; in a future version of numpy, it will be understood as (type, (1,)) / '(1,)type'.\n",
      "  _np_quint8 = np.dtype([(\"quint8\", np.uint8, 1)])\n",
      "D:\\installFile\\anaconda\\envs\\DL_py36_study\\lib\\site-packages\\tensorflow\\python\\framework\\dtypes.py:518: FutureWarning: Passing (type, 1) or '1type' as a synonym of type is deprecated; in a future version of numpy, it will be understood as (type, (1,)) / '(1,)type'.\n",
      "  _np_qint16 = np.dtype([(\"qint16\", np.int16, 1)])\n",
      "D:\\installFile\\anaconda\\envs\\DL_py36_study\\lib\\site-packages\\tensorflow\\python\\framework\\dtypes.py:519: FutureWarning: Passing (type, 1) or '1type' as a synonym of type is deprecated; in a future version of numpy, it will be understood as (type, (1,)) / '(1,)type'.\n",
      "  _np_quint16 = np.dtype([(\"quint16\", np.uint16, 1)])\n",
      "D:\\installFile\\anaconda\\envs\\DL_py36_study\\lib\\site-packages\\tensorflow\\python\\framework\\dtypes.py:520: FutureWarning: Passing (type, 1) or '1type' as a synonym of type is deprecated; in a future version of numpy, it will be understood as (type, (1,)) / '(1,)type'.\n",
      "  _np_qint32 = np.dtype([(\"qint32\", np.int32, 1)])\n",
      "D:\\installFile\\anaconda\\envs\\DL_py36_study\\lib\\site-packages\\tensorflow\\python\\framework\\dtypes.py:525: FutureWarning: Passing (type, 1) or '1type' as a synonym of type is deprecated; in a future version of numpy, it will be understood as (type, (1,)) / '(1,)type'.\n",
      "  np_resource = np.dtype([(\"resource\", np.ubyte, 1)])\n",
      "D:\\installFile\\anaconda\\envs\\DL_py36_study\\lib\\site-packages\\tensorboard\\compat\\tensorflow_stub\\dtypes.py:541: FutureWarning: Passing (type, 1) or '1type' as a synonym of type is deprecated; in a future version of numpy, it will be understood as (type, (1,)) / '(1,)type'.\n",
      "  _np_qint8 = np.dtype([(\"qint8\", np.int8, 1)])\n",
      "D:\\installFile\\anaconda\\envs\\DL_py36_study\\lib\\site-packages\\tensorboard\\compat\\tensorflow_stub\\dtypes.py:542: FutureWarning: Passing (type, 1) or '1type' as a synonym of type is deprecated; in a future version of numpy, it will be understood as (type, (1,)) / '(1,)type'.\n",
      "  _np_quint8 = np.dtype([(\"quint8\", np.uint8, 1)])\n",
      "D:\\installFile\\anaconda\\envs\\DL_py36_study\\lib\\site-packages\\tensorboard\\compat\\tensorflow_stub\\dtypes.py:543: FutureWarning: Passing (type, 1) or '1type' as a synonym of type is deprecated; in a future version of numpy, it will be understood as (type, (1,)) / '(1,)type'.\n",
      "  _np_qint16 = np.dtype([(\"qint16\", np.int16, 1)])\n",
      "D:\\installFile\\anaconda\\envs\\DL_py36_study\\lib\\site-packages\\tensorboard\\compat\\tensorflow_stub\\dtypes.py:544: FutureWarning: Passing (type, 1) or '1type' as a synonym of type is deprecated; in a future version of numpy, it will be understood as (type, (1,)) / '(1,)type'.\n",
      "  _np_quint16 = np.dtype([(\"quint16\", np.uint16, 1)])\n",
      "D:\\installFile\\anaconda\\envs\\DL_py36_study\\lib\\site-packages\\tensorboard\\compat\\tensorflow_stub\\dtypes.py:545: FutureWarning: Passing (type, 1) or '1type' as a synonym of type is deprecated; in a future version of numpy, it will be understood as (type, (1,)) / '(1,)type'.\n",
      "  _np_qint32 = np.dtype([(\"qint32\", np.int32, 1)])\n",
      "D:\\installFile\\anaconda\\envs\\DL_py36_study\\lib\\site-packages\\tensorboard\\compat\\tensorflow_stub\\dtypes.py:550: FutureWarning: Passing (type, 1) or '1type' as a synonym of type is deprecated; in a future version of numpy, it will be understood as (type, (1,)) / '(1,)type'.\n",
      "  np_resource = np.dtype([(\"resource\", np.ubyte, 1)])\n"
     ]
    }
   ],
   "source": [
    "import math\n",
    "import numpy as np\n",
    "import h5py\n",
    "import matplotlib.pyplot as plt\n",
    "import matplotlib.image as maimg\n",
    "import tensorflow as tf\n",
    "from tensorflow.python.framework import ops\n",
    "import cnn_utils\n",
    "%matplotlib inline\n",
    "np.random.seed(1)"
   ]
  },
  {
   "cell_type": "code",
   "execution_count": 4,
   "metadata": {},
   "outputs": [],
   "source": [
    "train_set_x_orig, train_set_y_orig, test_set_x_orig, test_set_y_orig, classes = cnn_utils.load_dataset()"
   ]
  },
  {
   "cell_type": "code",
   "execution_count": 5,
   "metadata": {},
   "outputs": [
    {
     "name": "stdout",
     "output_type": "stream",
     "text": [
      "y = 2\n"
     ]
    },
    {
     "data": {
      "image/png": "[encoded data removed]",
      "text/plain": [
       "<Figure size 432x288 with 1 Axes>"
      ]
     },
     "metadata": {
      "needs_background": "light"
     },
     "output_type": "display_data"
    }
   ],
   "source": [
    "index = 6\n",
    "plt.imshow(train_set_x_orig[index])\n",
    "print (\"y = \" + str(np.squeeze(train_set_y_orig[:, index])))"
   ]
  },
  {
   "cell_type": "code",
   "execution_count": 31,
   "metadata": {},
   "outputs": [
    {
     "name": "stdout",
     "output_type": "stream",
     "text": [
      "number of training examples = 1080\n",
      "number of test examples = 120\n",
      "X_train shape: (1080, 64, 64, 3)\n",
      "Y_train shape: (1080, 6)\n",
      "X_test shape: (120, 64, 64, 3)\n",
      "Y_test shape: (120, 6)\n"
     ]
    }
   ],
   "source": [
    "X_train = train_set_x_orig / 255\n",
    "X_test = test_set_x_orig / 255\n",
    "Y_train = cnn_utils.convert_to_one_hot(train_set_y_orig, 6).T\n",
    "Y_test = cnn_utils.convert_to_one_hot(test_set_y_orig, 6).T\n",
    "print (\"number of training examples = \" + str(X_train.shape[0]))\n",
    "print (\"number of test examples = \" + str(X_test.shape[0]))\n",
    "print (\"X_train shape: \" + str(X_train.shape))\n",
    "print (\"Y_train shape: \" + str(Y_train.shape))\n",
    "print (\"X_test shape: \" + str(X_test.shape))\n",
    "print (\"Y_test shape: \" + str(Y_test.shape))\n",
    "conv_layers = {}\n"
   ]
  },
  {
   "cell_type": "code",
   "execution_count": 32,
   "metadata": {},
   "outputs": [],
   "source": [
    "# 创建placeholder\n",
    "def create_placeholders(n_H0, n_W0, n_C0, n_y):\n",
    "    X = tf.placeholder(tf.float32, [None, n_H0, n_W0, n_C0])  # 输入图片的数量不定，所以设置为None\n",
    "    Y = tf.placeholder(tf.float32, [None, n_y])   # 矩阵的行数代表输入图片的数量\n",
    "    return X,Y"
   ]
  },
  {
   "cell_type": "code",
   "execution_count": 33,
   "metadata": {},
   "outputs": [
    {
     "name": "stdout",
     "output_type": "stream",
     "text": [
      "X = Tensor(\"Placeholder_2:0\", shape=(?, 64, 64, 3), dtype=float32)\n",
      "Y = Tensor(\"Placeholder_3:0\", shape=(?, 6), dtype=float32)\n"
     ]
    }
   ],
   "source": [
    "X , Y = create_placeholders(64,64,3,6)\n",
    "print (\"X = \" + str(X))\n",
    "print (\"Y = \" + str(Y))"
   ]
  },
  {
   "cell_type": "code",
   "execution_count": 34,
   "metadata": {},
   "outputs": [],
   "source": [
    "# 初始化参数\n",
    "def initialize_parameters():\n",
    "    tf.set_random_seed(1)\n",
    "    w1 = tf.get_variable(\"W1\", [4, 4, 3, 8], initializer = tf.contrib.layers.xavier_initializer(seed = 0))\n",
    "    w2 = tf.get_variable(\"W2\", [2, 2, 8, 16], initializer = tf.contrib.layers.xavier_initializer(seed = 0))\n",
    "    parameters = {\"W1\":w1, \"W2\":w2}\n",
    "    return parameters"
   ]
  },
  {
   "cell_type": "code",
   "execution_count": 35,
   "metadata": {},
   "outputs": [
    {
     "name": "stdout",
     "output_type": "stream",
     "text": [
      "W1 = [ 0.00131723  0.1417614  -0.04434952  0.09197326  0.14984085 -0.03514394\n",
      " -0.06847463  0.05245192]\n",
      "W2 = [-0.08566415  0.17750949  0.11974221  0.16773748 -0.0830943  -0.08058\n",
      " -0.00577033 -0.14643836  0.24162132 -0.05857408 -0.19055021  0.1345228\n",
      " -0.22779644 -0.1601823  -0.16117483 -0.10286498]\n"
     ]
    }
   ],
   "source": [
    "tf.reset_default_graph()\n",
    "with tf.Session() as sess_test:\n",
    "    parameters = initialize_parameters()\n",
    "    init = tf.global_variables_initializer()\n",
    "    sess_test.run(init)\n",
    "    print(\"W1 = \" + str(parameters[\"W1\"].eval()[1,1,1]))\n",
    "    print(\"W2 = \" + str(parameters[\"W2\"].eval()[1,1,1]))\n",
    "\n",
    "    sess_test.close()"
   ]
  },
  {
   "cell_type": "code",
   "execution_count": 36,
   "metadata": {},
   "outputs": [],
   "source": [
    "# def forward_propagation(X, parameters):\n",
    "#     # 取出参数\n",
    "#     w1 = parameters[\"W1\"]\n",
    "#     w2 = parameters[\"W2\"]\n",
    "#     Z1 = tf.nn.conv2d(X, w1, strides = [1, 1, 1, 1], padding = \"SAME\")  # 第三个参数表示沿4个轴移动的步子\n",
    "#     A1 = tf.nn.relu(Z1)\n",
    "#     P1 = tf.nn.max_pool(A1, ksize = [1, 8, 8, 1], strides = [1, 8, 8, 1], padding = \"SAME\")\n",
    "    \n",
    "#     Z2 = tf.nn.conv2d(P1, w2, strides = [1, 1, 1, 1], padding = \"SAME\")\n",
    "#     A2 = tf.nn.relu(Z2)\n",
    "#     P2 = tf.nn.max_pool(A2, ksize = [1, 4, 4, 1], strides = [1, 4, 4, 1], padding = \"SAME\")\n",
    "    \n",
    "#     P = tf.contrib.layers.flatten(P2)\n",
    "#     Z3 = tf.contrib.layers.fully_connected(P, 6, activation_fn = None)\n",
    "#     return Z3\n",
    "\n",
    "\n",
    "def forward_propagation(X,parameters):\n",
    "    \"\"\"\n",
    "    实现前向传播\n",
    "    CONV2D -> RELU -> MAXPOOL -> CONV2D -> RELU -> MAXPOOL -> FLATTEN -> FULLYCONNECTED\n",
    "\n",
    "    参数：\n",
    "        X - 输入数据的placeholder，维度为(输入节点数量，样本数量)\n",
    "        parameters - 包含了“W1”和“W2”的python字典。\n",
    "\n",
    "    返回：\n",
    "        Z3 - 最后一个LINEAR节点的输出\n",
    "\n",
    "    \"\"\"\n",
    "    W1 = parameters['W1']\n",
    "    W2 = parameters['W2']\n",
    "\n",
    "    #Conv2d : 步伐：1，填充方式：“SAME”\n",
    "    Z1 = tf.nn.conv2d(X,W1,strides=[1,1,1,1],padding=\"SAME\")\n",
    "    #ReLU ：\n",
    "    A1 = tf.nn.relu(Z1)\n",
    "    #Max pool : 窗口大小：8x8，步伐：8x8，填充方式：“SAME”\n",
    "    P1 = tf.nn.max_pool(A1,ksize=[1,8,8,1],strides=[1,8,8,1],padding=\"SAME\")\n",
    "\n",
    "    #Conv2d : 步伐：1，填充方式：“SAME”\n",
    "    Z2 = tf.nn.conv2d(P1,W2,strides=[1,1,1,1],padding=\"SAME\")\n",
    "    #ReLU ：\n",
    "    A2 = tf.nn.relu(Z2)\n",
    "    #Max pool : 过滤器大小：4x4，步伐：4x4，填充方式：“SAME”\n",
    "    P2 = tf.nn.max_pool(A2,ksize=[1,4,4,1],strides=[1,4,4,1],padding=\"SAME\")\n",
    "\n",
    "    #一维化上一层的输出\n",
    "    P = tf.contrib.layers.flatten(P2)\n",
    "\n",
    "    #全连接层（FC）：使用没有非线性激活函数的全连接层\n",
    "    Z3 = tf.contrib.layers.fully_connected(P,6,activation_fn=None)  # 0轴代表样本数量\n",
    "\n",
    "    return Z3\n"
   ]
  },
  {
   "cell_type": "code",
   "execution_count": 37,
   "metadata": {},
   "outputs": [
    {
     "name": "stdout",
     "output_type": "stream",
     "text": [
      "Z3 = [[ 1.4416982  -0.24909668  5.4504995  -0.2618962  -0.20669872  1.3654671 ]\n",
      " [ 1.4070847  -0.02573182  5.08928    -0.4866991  -0.4094069   1.2624853 ]]\n"
     ]
    }
   ],
   "source": [
    "tf.reset_default_graph()\n",
    "np.random.seed(1)\n",
    "\n",
    "with tf.Session() as sess_test:\n",
    "    X,Y = create_placeholders(64,64,3,6)\n",
    "    parameters = initialize_parameters()\n",
    "    Z3 = forward_propagation(X,parameters)\n",
    "\n",
    "    init = tf.global_variables_initializer()\n",
    "    sess_test.run(init)\n",
    "\n",
    "    a = sess_test.run(Z3,{X: np.random.randn(2,64,64,3), Y: np.random.randn(2,6)})\n",
    "    print(\"Z3 = \" + str(a))\n",
    "\n",
    "    sess_test.close()\n",
    "\n"
   ]
  },
  {
   "cell_type": "code",
   "execution_count": null,
   "metadata": {},
   "outputs": [],
   "source": [
    "def compute_cost(Z3,Y):\n",
    "    cost = tf.nn.softmax_cross_entropy_with_logits(logits = Z3, labels = Y)\n",
    "    cost = tf.reduce_mean(cost)\n",
    "    return cost\n",
    "tf.reset_default_graph()\n",
    "\n",
    "with tf.Session() as sess_test:\n",
    "    np.random.seed(1)\n",
    "    X,Y = create_placeholders(64,64,3,6)\n",
    "    parameters = initialize_parameters()\n",
    "    Z3 = forward_propagation(X,parameters)\n",
    "    cost = compute_cost(Z3,Y)\n",
    "\n",
    "    init = tf.global_variables_initializer()\n",
    "    sess_test.run(init)\n",
    "    a = sess_test.run(cost,{X: np.random.randn(4,64,64,3), Y: np.random.randn(4,6)})\n",
    "    print(\"cost = \" + str(a))\n",
    "\n",
    "    sess_test.close()\n"
   ]
  },
  {
   "cell_type": "markdown",
   "metadata": {},
   "source": [
    "1. 创建占位符\n",
    "2. 初始化参数\n",
    "3. 前向传播\n",
    "4. 计算loss\n",
    "5. 反向计算\n",
    "6. 创建优化器，求最优参数"
   ]
  },
  {
   "cell_type": "code",
   "execution_count": 83,
   "metadata": {},
   "outputs": [],
   "source": [
    "def model(X_train, Y_train, X_test, Y_test, learning_rate = 0.009, num_epochs = 100, minibatch_size = 64, print_cost = True, isPlot = True):\n",
    "    ops.reset_default_graph()\n",
    "    tf.set_random_seed(1)\n",
    "    seed = 3  #指定numpy的种子\n",
    "    \n",
    "    \n",
    "    # 调用自己写的函数，创建placeholder， 后面要用session给占位符喂数据\n",
    "    (m, n_H0, n_W0, n_C0) = X_train.shape\n",
    "    n_y = Y_train.shape[1]  # Y_train行数是标签个数\n",
    "    costs = []\n",
    "    X, Y = create_placeholders(n_H0, n_W0, n_C0, n_y)\n",
    "    # 初始化参数\n",
    "    parameters = initialize_parameters()\n",
    "    \n",
    "    # 前向传播\n",
    "    Z3 = forward_propagation(X,parameters)\n",
    "    # 计算loss\n",
    "    cost = compute_cost(Z3,Y)\n",
    "    # 反向传播\n",
    "    optimizer = tf.train.AdamOptimizer(learning_rate = learning_rate).minimize(cost)\n",
    "    \n",
    "    init = tf.global_variables_initializer()  # 全局初始化变量\n",
    "    # 以上只是创建图，没有喂数据进行实际计算，下面创建session进行实际计算\n",
    "    with tf.Session() as sess: \n",
    "        sess.run(init)\n",
    "        \n",
    "        #  进行喂数据，计算\n",
    "        for epoch in range(num_epochs):\n",
    "            cost_epoch = 0\n",
    "            num_minibatch = int(X_train.shape[0] / minibatch_size)\n",
    "            seed = seed + 1\n",
    "            minibatches = cnn_utils.random_mini_batches(X_train, Y_train, minibatch_size, seed)\n",
    "            \n",
    "            for i_batch in minibatches:\n",
    "                (x_batch, y_batch) = i_batch\n",
    "                \n",
    "                # 第i_batch小批量数据的梯度下降\n",
    "                _, cost_i_batch = sess.run([optimizer, cost], feed_dict = {X:x_batch, Y:y_batch})\n",
    "                cost_epoch += cost_i_batch / num_minibatch\n",
    "            if print_cost:\n",
    "                if epoch % 5 == 0:\n",
    "                    print(\"{}th epoch\\t|cost = {}\".format(epoch, cost_epoch))\n",
    "            if epoch % 1 == 0:\n",
    "                costs.append(cost_epoch)\n",
    "                \n",
    "        if isPlot:\n",
    "            print(\"costs.type:\", type(costs))\n",
    "            plt.plot(np.squeeze(costs))\n",
    "            plt.ylabel(\"cost\")\n",
    "            plt.xlabel(\"epoch\")\n",
    "            plt.title(\"Learning rate =\" + str(learning_rate))\n",
    "            plt.show()\n",
    "\n",
    "        current_predict = tf.equal(tf.arg_max(Z3, 1), tf.arg_max(Y, 1))\n",
    "        accuracy = tf.reduce_mean(tf.cast(current_predict, \"float\"))\n",
    "        print(\"accuracy :\", accuracy)\n",
    "\n",
    "        accuracy_train = accuracy.eval({X:X_train, Y:Y_train}) \n",
    "        accuracy_test = accuracy.eval({X:X_test, Y:Y_test})\n",
    "        print(\"train accuracy :\", accuracy_train)\n",
    "        print(\"test accuracy:\", accuracy_test)\n",
    "        \n",
    "    return (accuracy_train,accuracy_test,parameters)\n",
    "\n"
   ]
  },
  {
   "cell_type": "code",
   "execution_count": 84,
   "metadata": {},
   "outputs": [
    {
     "name": "stdout",
     "output_type": "stream",
     "text": [
      "0th epoch\t|cost = 1.9213323965668678\n",
      "5th epoch\t|cost = 1.9041557759046555\n",
      "10th epoch\t|cost = 1.9043088480830193\n",
      "15th epoch\t|cost = 1.904477171599865\n",
      "20th epoch\t|cost = 1.9018685296177864\n",
      "25th epoch\t|cost = 1.7401809096336365\n",
      "30th epoch\t|cost = 1.6646495833992958\n",
      "35th epoch\t|cost = 1.626261167228222\n",
      "40th epoch\t|cost = 1.6200454384088516\n",
      "45th epoch\t|cost = 1.5801728665828705\n",
      "50th epoch\t|cost = 1.550707258284092\n",
      "55th epoch\t|cost = 1.4860153198242188\n",
      "60th epoch\t|cost = 1.3735136091709137\n",
      "65th epoch\t|cost = 1.2669073417782784\n",
      "70th epoch\t|cost = 1.1806523390114307\n",
      "75th epoch\t|cost = 1.1412195302546024\n",
      "80th epoch\t|cost = 1.0724785141646862\n",
      "85th epoch\t|cost = 1.0686000622808933\n",
      "90th epoch\t|cost = 1.0151213817298412\n",
      "95th epoch\t|cost = 0.9881901554763317\n",
      "100th epoch\t|cost = 1.0072355084121227\n",
      "105th epoch\t|cost = 0.9636502638459206\n",
      "110th epoch\t|cost = 0.9690168127417564\n",
      "115th epoch\t|cost = 0.9555537402629852\n",
      "120th epoch\t|cost = 0.946508813649416\n",
      "125th epoch\t|cost = 0.892060186713934\n",
      "130th epoch\t|cost = 0.8858786560595036\n",
      "135th epoch\t|cost = 0.8643605448305607\n",
      "140th epoch\t|cost = 0.8599357567727566\n",
      "145th epoch\t|cost = 0.8652942292392254\n",
      "costs.type: <class 'list'>\n"
     ]
    },
    {
     "data": {
      "image/png": "[encoded data removed]",
      "text/plain": [
       "<Figure size 432x288 with 1 Axes>"
      ]
     },
     "metadata": {
      "needs_background": "light"
     },
     "output_type": "display_data"
    },
    {
     "name": "stdout",
     "output_type": "stream",
     "text": [
      "accuracy : Tensor(\"Mean_1:0\", shape=(), dtype=float32)\n",
      "train accuracy : 0.725\n",
      "test accuracy: 0.575\n"
     ]
    }
   ],
   "source": [
    "_, _, parameters = model(X_train, Y_train, X_test, Y_test,num_epochs=150)"
   ]
  },
  {
   "cell_type": "code",
   "execution_count": null,
   "metadata": {},
   "outputs": [],
   "source": []
  },
  {
   "cell_type": "code",
   "execution_count": null,
   "metadata": {},
   "outputs": [],
   "source": []
  }
 ],
 "metadata": {
  "kernelspec": {
   "display_name": "DL_exercise(env=py36)",
   "language": "python",
   "name": "py36"
  },
  "language_info": {
   "codemirror_mode": {
    "name": "ipython",
    "version": 3
   },
   "file_extension": ".py",
   "mimetype": "text/x-python",
   "name": "python",
   "nbconvert_exporter": "python",
   "pygments_lexer": "ipython3",
   "version": "3.6.9"
  }
 },
 "nbformat": 4,
 "nbformat_minor": 2
}
