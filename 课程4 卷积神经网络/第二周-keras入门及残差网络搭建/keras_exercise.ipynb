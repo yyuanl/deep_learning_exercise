{
 "cells": [
  {
   "cell_type": "code",
   "execution_count": 1,
   "metadata": {},
   "outputs": [
    {
     "name": "stderr",
     "output_type": "stream",
     "text": [
      "Using TensorFlow backend.\n",
      "D:\\installFile\\anaconda\\envs\\DL_py36_study\\lib\\site-packages\\tensorflow\\python\\framework\\dtypes.py:516: FutureWarning: Passing (type, 1) or '1type' as a synonym of type is deprecated; in a future version of numpy, it will be understood as (type, (1,)) / '(1,)type'.\n",
      "  _np_qint8 = np.dtype([(\"qint8\", np.int8, 1)])\n",
      "D:\\installFile\\anaconda\\envs\\DL_py36_study\\lib\\site-packages\\tensorflow\\python\\framework\\dtypes.py:517: FutureWarning: Passing (type, 1) or '1type' as a synonym of type is deprecated; in a future version of numpy, it will be understood as (type, (1,)) / '(1,)type'.\n",
      "  _np_quint8 = np.dtype([(\"quint8\", np.uint8, 1)])\n",
      "D:\\installFile\\anaconda\\envs\\DL_py36_study\\lib\\site-packages\\tensorflow\\python\\framework\\dtypes.py:518: FutureWarning: Passing (type, 1) or '1type' as a synonym of type is deprecated; in a future version of numpy, it will be understood as (type, (1,)) / '(1,)type'.\n",
      "  _np_qint16 = np.dtype([(\"qint16\", np.int16, 1)])\n",
      "D:\\installFile\\anaconda\\envs\\DL_py36_study\\lib\\site-packages\\tensorflow\\python\\framework\\dtypes.py:519: FutureWarning: Passing (type, 1) or '1type' as a synonym of type is deprecated; in a future version of numpy, it will be understood as (type, (1,)) / '(1,)type'.\n",
      "  _np_quint16 = np.dtype([(\"quint16\", np.uint16, 1)])\n",
      "D:\\installFile\\anaconda\\envs\\DL_py36_study\\lib\\site-packages\\tensorflow\\python\\framework\\dtypes.py:520: FutureWarning: Passing (type, 1) or '1type' as a synonym of type is deprecated; in a future version of numpy, it will be understood as (type, (1,)) / '(1,)type'.\n",
      "  _np_qint32 = np.dtype([(\"qint32\", np.int32, 1)])\n",
      "D:\\installFile\\anaconda\\envs\\DL_py36_study\\lib\\site-packages\\tensorflow\\python\\framework\\dtypes.py:525: FutureWarning: Passing (type, 1) or '1type' as a synonym of type is deprecated; in a future version of numpy, it will be understood as (type, (1,)) / '(1,)type'.\n",
      "  np_resource = np.dtype([(\"resource\", np.ubyte, 1)])\n",
      "D:\\installFile\\anaconda\\envs\\DL_py36_study\\lib\\site-packages\\tensorboard\\compat\\tensorflow_stub\\dtypes.py:541: FutureWarning: Passing (type, 1) or '1type' as a synonym of type is deprecated; in a future version of numpy, it will be understood as (type, (1,)) / '(1,)type'.\n",
      "  _np_qint8 = np.dtype([(\"qint8\", np.int8, 1)])\n",
      "D:\\installFile\\anaconda\\envs\\DL_py36_study\\lib\\site-packages\\tensorboard\\compat\\tensorflow_stub\\dtypes.py:542: FutureWarning: Passing (type, 1) or '1type' as a synonym of type is deprecated; in a future version of numpy, it will be understood as (type, (1,)) / '(1,)type'.\n",
      "  _np_quint8 = np.dtype([(\"quint8\", np.uint8, 1)])\n",
      "D:\\installFile\\anaconda\\envs\\DL_py36_study\\lib\\site-packages\\tensorboard\\compat\\tensorflow_stub\\dtypes.py:543: FutureWarning: Passing (type, 1) or '1type' as a synonym of type is deprecated; in a future version of numpy, it will be understood as (type, (1,)) / '(1,)type'.\n",
      "  _np_qint16 = np.dtype([(\"qint16\", np.int16, 1)])\n",
      "D:\\installFile\\anaconda\\envs\\DL_py36_study\\lib\\site-packages\\tensorboard\\compat\\tensorflow_stub\\dtypes.py:544: FutureWarning: Passing (type, 1) or '1type' as a synonym of type is deprecated; in a future version of numpy, it will be understood as (type, (1,)) / '(1,)type'.\n",
      "  _np_quint16 = np.dtype([(\"quint16\", np.uint16, 1)])\n",
      "D:\\installFile\\anaconda\\envs\\DL_py36_study\\lib\\site-packages\\tensorboard\\compat\\tensorflow_stub\\dtypes.py:545: FutureWarning: Passing (type, 1) or '1type' as a synonym of type is deprecated; in a future version of numpy, it will be understood as (type, (1,)) / '(1,)type'.\n",
      "  _np_qint32 = np.dtype([(\"qint32\", np.int32, 1)])\n",
      "D:\\installFile\\anaconda\\envs\\DL_py36_study\\lib\\site-packages\\tensorboard\\compat\\tensorflow_stub\\dtypes.py:550: FutureWarning: Passing (type, 1) or '1type' as a synonym of type is deprecated; in a future version of numpy, it will be understood as (type, (1,)) / '(1,)type'.\n",
      "  np_resource = np.dtype([(\"resource\", np.ubyte, 1)])\n"
     ]
    }
   ],
   "source": [
    "import numpy as np\n",
    "from keras import layers\n",
    "from keras.layers import Input, Dense, Activation, ZeroPadding2D, BatchNormalization, Flatten, Conv2D\n",
    "from keras.layers import AveragePooling2D, MaxPooling2D, Dropout, GlobalMaxPooling2D, GlobalAveragePooling2D\n",
    "from keras.models import Model\n",
    "from keras.preprocessing import image\n",
    "from keras.utils import layer_utils\n",
    "from keras.utils.data_utils import get_file\n",
    "from keras.applications.imagenet_utils import preprocess_input\n",
    "import pydot\n",
    "from IPython.display import SVG\n",
    "from keras.utils.vis_utils import model_to_dot\n",
    "from keras.utils import plot_model\n",
    "import kt_utils \n",
    "\n",
    "import keras.backend as K\n",
    "K.set_image_data_format('channels_last')\n",
    "import matplotlib.pyplot as plt\n",
    "from matplotlib.pyplot import imshow\n",
    "\n",
    "import cv2\n",
    "\n",
    "%matplotlib inline\n"
   ]
  },
  {
   "cell_type": "code",
   "execution_count": 2,
   "metadata": {},
   "outputs": [
    {
     "name": "stdout",
     "output_type": "stream",
     "text": [
      "number of training examples = 600\n",
      "number of test examples = 150\n",
      "X_train shape: (600, 64, 64, 3)\n",
      "Y_train shape: (600, 1)\n",
      "X_test shape: (150, 64, 64, 3)\n",
      "Y_test shape: (150, 1)\n"
     ]
    }
   ],
   "source": [
    "X_train_orig, Y_train_orig, X_test_orig, Y_test_orig, classes = kt_utils.load_dataset()\n",
    "X_train = X_train_orig / 255\n",
    "X_test = X_test_orig / 255\n",
    "\n",
    "Y_train = Y_train_orig.T\n",
    "Y_test = Y_test_orig.T\n",
    "\n",
    "\n",
    "print (\"number of training examples = \" + str(X_train.shape[0]))\n",
    "print (\"number of test examples = \" + str(X_test.shape[0]))\n",
    "print (\"X_train shape: \" + str(X_train.shape))\n",
    "print (\"Y_train shape: \" + str(Y_train.shape))\n",
    "print (\"X_test shape: \" + str(X_test.shape))\n",
    "print (\"Y_test shape: \" + str(Y_test.shape))\n"
   ]
  },
  {
   "cell_type": "code",
   "execution_count": 3,
   "metadata": {},
   "outputs": [],
   "source": [
    "def model(input_shape):\n",
    "    X_input = Input(input_shape)  # 定义一个tensor的placeholder，维度为input_shape\n",
    "    X = ZeroPadding2D((3, 3))(X_input)  # 使用0填充，X_input周围填充0\n",
    "    # CONV -> BN -> RELU\n",
    "    X = Conv2D(32, (7, 7), strides = (1, 1), name = 'conv0')(X)\n",
    "    X = BatchNormalization(axis = 3, name = 'bn0')(X)\n",
    "    X = Activation('relu')(X)\n",
    "    \n",
    "    # 最大值池化层\n",
    "    X = MaxPooling2D((2, 2), name = \"max_pool\")(X)\n",
    "    # 矩阵转为向量，加上全连接层\n",
    "    X = Flatten()(X)\n",
    "    X = Dense(1, activation = 'sigmoid', name = 'fc')(X)\n",
    "    \n",
    "    model = Model(inputs = X_input, outputs = X, name = 'HappyModel') # 创建模型\n",
    "    \n",
    "    return model"
   ]
  },
  {
   "cell_type": "code",
   "execution_count": 4,
   "metadata": {},
   "outputs": [],
   "source": [
    "# def HappyModel(input_shape):\n",
    "#     X_input = Input(input_shape)\n",
    "#     X = ZeroPadding2D((3, 3))(X_input)\n",
    "#     X = Conv2D(32, (7, 7), strides = (1, 1), name = 'conv0')(X)\n",
    "#     X = BatchNormalization(axis = 3, name = 'bn0')(X)\n",
    "#     X = Activation('relu')(X)\n",
    "#     X = MaxPooling2D((2, 2), name = \"max_pool\")(X)\n",
    "#     X = Dense(1, activation = 'sigmoid', name = 'fc')(X)\n",
    "#     model = Model(inputs = X_input, outputs = X, name = 'HappyModel')\n",
    "#     return model\n",
    "\n",
    "def HappyModel(input_shape):\n",
    "\n",
    "    \n",
    "    #你可以参考和上面的大纲\n",
    "    X_input = Input(input_shape)\n",
    "\n",
    "    #使用0填充：X_input的周围填充0\n",
    "    X = ZeroPadding2D((3, 3))(X_input)\n",
    "\n",
    "    #对X使用 CONV -> BN -> RELU 块\n",
    "    X = Conv2D(32, (7, 7), strides=(1, 1), name='conv0')(X)\n",
    "    X = BatchNormalization(axis=3, name='bn0')(X)\n",
    "    X = Activation('relu')(X)\n",
    "\n",
    "    #最大值池化层\n",
    "    X = MaxPooling2D((2, 2), name='max_pool')(X)\n",
    "\n",
    "    #降维，矩阵转化为向量 + 全连接层\n",
    "    print('the shape of X before:', X.shape)\n",
    "    X = Flatten()(X)\n",
    "    print('the shape of X after:', X.shape)\n",
    "    X = Dense(1, activation='sigmoid', name='fc')(X)\n",
    "\n",
    "    #创建模型，讲话创建一个模型的实体，我们可以用它来训练、测试。\n",
    "    model = Model(inputs=X_input, outputs=X, name='HappyModel')\n",
    "\n",
    "    return model\n"
   ]
  },
  {
   "cell_type": "markdown",
   "metadata": {},
   "source": [
    "**训练测试模型**：\n",
    "1. 创建一个模型实体\n",
    "2. 选择模型优化方法 ：model.compile(optimizer =  , loss = , metrics = )\n",
    "3. 训练模型：model.fit(x = ,  y =  ,epochs = , batch_size = )\n",
    "4. 评估模型：model.evaluate(x = , y = )"
   ]
  },
  {
   "cell_type": "code",
   "execution_count": 5,
   "metadata": {},
   "outputs": [
    {
     "name": "stderr",
     "output_type": "stream",
     "text": [
      "WARNING: Logging before flag parsing goes to stderr.\n",
      "W1001 13:54:48.642186 17200 deprecation_wrapper.py:119] From D:\\installFile\\anaconda\\envs\\DL_py36_study\\lib\\site-packages\\keras\\backend\\tensorflow_backend.py:4070: The name tf.nn.max_pool is deprecated. Please use tf.nn.max_pool2d instead.\n",
      "\n",
      "W1001 13:54:48.711148 17200 deprecation.py:323] From D:\\installFile\\anaconda\\envs\\DL_py36_study\\lib\\site-packages\\tensorflow\\python\\ops\\nn_impl.py:180: add_dispatch_support.<locals>.wrapper (from tensorflow.python.ops.array_ops) is deprecated and will be removed in a future version.\n",
      "Instructions for updating:\n",
      "Use tf.where in 2.0, which has the same broadcast rule as np.where\n"
     ]
    },
    {
     "name": "stdout",
     "output_type": "stream",
     "text": [
      "the shape of X before: (?, 32, 32, 32)\n",
      "the shape of X after: (?, ?)\n"
     ]
    },
    {
     "name": "stderr",
     "output_type": "stream",
     "text": [
      "W1001 13:54:49.160898 17200 deprecation_wrapper.py:119] From D:\\installFile\\anaconda\\envs\\DL_py36_study\\lib\\site-packages\\keras\\backend\\tensorflow_backend.py:422: The name tf.global_variables is deprecated. Please use tf.compat.v1.global_variables instead.\n",
      "\n"
     ]
    },
    {
     "name": "stdout",
     "output_type": "stream",
     "text": [
      "Epoch 1/40\n",
      "600/600 [==============================] - 6s 10ms/step - loss: 2.0144 - accuracy: 0.5717\n",
      "Epoch 2/40\n",
      "600/600 [==============================] - 6s 9ms/step - loss: 0.4254 - accuracy: 0.8250\n",
      "Epoch 3/40\n",
      "600/600 [==============================] - 6s 10ms/step - loss: 0.2649 - accuracy: 0.8867\n",
      "Epoch 4/40\n",
      "600/600 [==============================] - 6s 9ms/step - loss: 0.2196 - accuracy: 0.9150\n",
      "Epoch 5/40\n",
      "600/600 [==============================] - 6s 10ms/step - loss: 0.1570 - accuracy: 0.9450\n",
      "Epoch 6/40\n",
      "600/600 [==============================] - 6s 10ms/step - loss: 0.1115 - accuracy: 0.9667\n",
      "Epoch 7/40\n",
      "600/600 [==============================] - 6s 10ms/step - loss: 0.1022 - accuracy: 0.9700\n",
      "Epoch 8/40\n",
      "600/600 [==============================] - 6s 10ms/step - loss: 0.0869 - accuracy: 0.9733\n",
      "Epoch 9/40\n",
      "600/600 [==============================] - 6s 10ms/step - loss: 0.0761 - accuracy: 0.9783\n",
      "Epoch 10/40\n",
      "600/600 [==============================] - 6s 10ms/step - loss: 0.0826 - accuracy: 0.9750\n",
      "Epoch 11/40\n",
      "600/600 [==============================] - 6s 10ms/step - loss: 0.0690 - accuracy: 0.9833\n",
      "Epoch 12/40\n",
      "600/600 [==============================] - 6s 10ms/step - loss: 0.0796 - accuracy: 0.9783\n",
      "Epoch 13/40\n",
      "600/600 [==============================] - 6s 10ms/step - loss: 0.0597 - accuracy: 0.9883\n",
      "Epoch 14/40\n",
      "600/600 [==============================] - 6s 10ms/step - loss: 0.0496 - accuracy: 0.9833\n",
      "Epoch 15/40\n",
      "600/600 [==============================] - 6s 10ms/step - loss: 0.0592 - accuracy: 0.9817\n",
      "Epoch 16/40\n",
      "600/600 [==============================] - 5s 9ms/step - loss: 0.0445 - accuracy: 0.9867\n",
      "Epoch 17/40\n",
      "600/600 [==============================] - 5s 9ms/step - loss: 0.0400 - accuracy: 0.9883\n",
      "Epoch 18/40\n",
      "600/600 [==============================] - 6s 9ms/step - loss: 0.0449 - accuracy: 0.9850\n",
      "Epoch 19/40\n",
      "600/600 [==============================] - 5s 9ms/step - loss: 0.0402 - accuracy: 0.9883\n",
      "Epoch 20/40\n",
      "600/600 [==============================] - 5s 9ms/step - loss: 0.0329 - accuracy: 0.9917\n",
      "Epoch 21/40\n",
      "600/600 [==============================] - 5s 9ms/step - loss: 0.0328 - accuracy: 0.9917\n",
      "Epoch 22/40\n",
      "600/600 [==============================] - 5s 9ms/step - loss: 0.0268 - accuracy: 0.9933\n",
      "Epoch 23/40\n",
      "600/600 [==============================] - 5s 9ms/step - loss: 0.0242 - accuracy: 0.9950\n",
      "Epoch 24/40\n",
      "600/600 [==============================] - 5s 9ms/step - loss: 0.0227 - accuracy: 0.9950\n",
      "Epoch 25/40\n",
      "600/600 [==============================] - 5s 9ms/step - loss: 0.0405 - accuracy: 0.9900\n",
      "Epoch 26/40\n",
      "600/600 [==============================] - 5s 9ms/step - loss: 0.0264 - accuracy: 0.9950\n",
      "Epoch 27/40\n",
      "600/600 [==============================] - 5s 9ms/step - loss: 0.0289 - accuracy: 0.9917\n",
      "Epoch 28/40\n",
      "600/600 [==============================] - 5s 9ms/step - loss: 0.0207 - accuracy: 0.9933\n",
      "Epoch 29/40\n",
      "600/600 [==============================] - 5s 9ms/step - loss: 0.0324 - accuracy: 0.9933\n",
      "Epoch 30/40\n",
      "600/600 [==============================] - 5s 9ms/step - loss: 0.0278 - accuracy: 0.9917\n",
      "Epoch 31/40\n",
      "600/600 [==============================] - 5s 9ms/step - loss: 0.0183 - accuracy: 0.9950\n",
      "Epoch 32/40\n",
      "600/600 [==============================] - 5s 9ms/step - loss: 0.0189 - accuracy: 0.9983\n",
      "Epoch 33/40\n",
      "600/600 [==============================] - 5s 9ms/step - loss: 0.0215 - accuracy: 0.9933\n",
      "Epoch 34/40\n",
      "600/600 [==============================] - 5s 9ms/step - loss: 0.0196 - accuracy: 0.9950\n",
      "Epoch 35/40\n",
      "600/600 [==============================] - 5s 9ms/step - loss: 0.0148 - accuracy: 0.9967\n",
      "Epoch 36/40\n",
      "600/600 [==============================] - 5s 9ms/step - loss: 0.0177 - accuracy: 0.9967\n",
      "Epoch 37/40\n",
      "600/600 [==============================] - 5s 9ms/step - loss: 0.0179 - accuracy: 0.9933\n",
      "Epoch 38/40\n",
      "600/600 [==============================] - 5s 9ms/step - loss: 0.0316 - accuracy: 0.9883\n",
      "Epoch 39/40\n",
      "600/600 [==============================] - 5s 9ms/step - loss: 0.0150 - accuracy: 0.9967\n",
      "Epoch 40/40\n",
      "600/600 [==============================] - 5s 9ms/step - loss: 0.0158 - accuracy: 0.9950\n",
      "150/150 [==============================] - 1s 3ms/step\n",
      "loss:0.08131668617328008\n",
      "accuracy:0.9733333587646484\n"
     ]
    }
   ],
   "source": [
    "happy_model = HappyModel(X_train.shape[1:])\n",
    "happy_model.compile(\"adam\",\"binary_crossentropy\", metrics = ['accuracy'])\n",
    "happy_model.fit(X_train, Y_train, epochs = 40, batch_size = 50)  # 训练模型\n",
    "preds = happy_model.evaluate(X_test, Y_test, batch_size = 32, verbose = 1, sample_weight = None)  # verbose = 1 输出进度条记录\n",
    "print(\"loss:\" + str(preds[0]))\n",
    "print(\"accuracy:\" + str(preds[1]))\n",
    "\n",
    "\n"
   ]
  },
  {
   "cell_type": "code",
   "execution_count": 6,
   "metadata": {},
   "outputs": [
    {
     "name": "stdout",
     "output_type": "stream",
     "text": [
      "[[1.]]\n"
     ]
    },
    {
     "data": {
      "image/png": "[encoded data removed]",
      "text/plain": [
       "<Figure size 432x288 with 1 Axes>"
      ]
     },
     "metadata": {
      "needs_background": "light"
     },
     "output_type": "display_data"
    }
   ],
   "source": [
    "# img = image.load_img(\"smile_test.jpg\", target_size = (64, 64)) \n",
    "# print('load_img.shape', img.shape)\n",
    "# imshow(img)\n",
    "\n",
    "#网上随便找的图片，侵删\n",
    "img_path = 'image/smile_test.jpg'\n",
    "\n",
    "# img = cv2.imread(img_path)\n",
    "# print('img.shape', img.shape)\n",
    "\n",
    "img = image.load_img(img_path, target_size=(64, 64))\n",
    "imshow(img)\n",
    "\n",
    "x = image.img_to_array(img)\n",
    "x = np.expand_dims(x, axis=0)\n",
    "x = preprocess_input(x)\n",
    "\n",
    "print(happy_model.predict(x))\n"
   ]
  },
  {
   "cell_type": "code",
   "execution_count": 7,
   "metadata": {},
   "outputs": [
    {
     "name": "stdout",
     "output_type": "stream",
     "text": [
      "Model: \"HappyModel\"\n",
      "_________________________________________________________________\n",
      "Layer (type)                 Output Shape              Param #   \n",
      "=================================================================\n",
      "input_1 (InputLayer)         (None, 64, 64, 3)         0         \n",
      "_________________________________________________________________\n",
      "zero_padding2d_1 (ZeroPaddin (None, 70, 70, 3)         0         \n",
      "_________________________________________________________________\n",
      "conv0 (Conv2D)               (None, 64, 64, 32)        4736      \n",
      "_________________________________________________________________\n",
      "bn0 (BatchNormalization)     (None, 64, 64, 32)        128       \n",
      "_________________________________________________________________\n",
      "activation_1 (Activation)    (None, 64, 64, 32)        0         \n",
      "_________________________________________________________________\n",
      "max_pool (MaxPooling2D)      (None, 32, 32, 32)        0         \n",
      "_________________________________________________________________\n",
      "flatten_1 (Flatten)          (None, 32768)             0         \n",
      "_________________________________________________________________\n",
      "fc (Dense)                   (None, 1)                 32769     \n",
      "=================================================================\n",
      "Total params: 37,633\n",
      "Trainable params: 37,569\n",
      "Non-trainable params: 64\n",
      "_________________________________________________________________\n"
     ]
    }
   ],
   "source": [
    "happy_model.summary()"
   ]
  },
  {
   "cell_type": "code",
   "execution_count": 9,
   "metadata": {},
   "outputs": [
    {
     "data": {
      "image/svg+xml": [
       "<svg height=\"741pt\" viewBox=\"0.00 0.00 225.00 556.00\" width=\"300pt\" xmlns=\"http://www.w3.org/2000/svg\" xmlns:xlink=\"http://www.w3.org/1999/xlink\">\n",
       "<g class=\"graph\" id=\"graph0\" transform=\"scale(1.33333 1.33333) rotate(0) translate(4 552)\">\n",
       "<title>G</title>\n",
       "<polygon fill=\"white\" points=\"-4,4 -4,-552 221,-552 221,4 -4,4\" stroke=\"none\"/>\n",
       "<!-- 2406114389408 -->\n",
       "<g class=\"node\" id=\"node1\"><title>2406114389408</title>\n",
       "<polygon fill=\"none\" points=\"45.5,-511.5 45.5,-547.5 171.5,-547.5 171.5,-511.5 45.5,-511.5\" stroke=\"black\"/>\n",
       "<text font-family=\"Times New Roman,serif\" font-size=\"14.00\" text-anchor=\"middle\" x=\"108.5\" y=\"-525.8\">input_1: InputLayer</text>\n",
       "</g>\n",
       "<!-- 2406114427288 -->\n",
       "<g class=\"node\" id=\"node2\"><title>2406114427288</title>\n",
       "<polygon fill=\"none\" points=\"0,-438.5 0,-474.5 217,-474.5 217,-438.5 0,-438.5\" stroke=\"black\"/>\n",
       "<text font-family=\"Times New Roman,serif\" font-size=\"14.00\" text-anchor=\"middle\" x=\"108.5\" y=\"-452.8\">zero_padding2d_1: ZeroPadding2D</text>\n",
       "</g>\n",
       "<!-- 2406114389408&#45;&gt;2406114427288 -->\n",
       "<g class=\"edge\" id=\"edge1\"><title>2406114389408-&gt;2406114427288</title>\n",
       "<path d=\"M108.5,-511.313C108.5,-503.289 108.5,-493.547 108.5,-484.569\" fill=\"none\" stroke=\"black\"/>\n",
       "<polygon fill=\"black\" points=\"112,-484.529 108.5,-474.529 105,-484.529 112,-484.529\" stroke=\"black\"/>\n",
       "</g>\n",
       "<!-- 2406114427176 -->\n",
       "<g class=\"node\" id=\"node3\"><title>2406114427176</title>\n",
       "<polygon fill=\"none\" points=\"56,-365.5 56,-401.5 161,-401.5 161,-365.5 56,-365.5\" stroke=\"black\"/>\n",
       "<text font-family=\"Times New Roman,serif\" font-size=\"14.00\" text-anchor=\"middle\" x=\"108.5\" y=\"-379.8\">conv0: Conv2D</text>\n",
       "</g>\n",
       "<!-- 2406114427288&#45;&gt;2406114427176 -->\n",
       "<g class=\"edge\" id=\"edge2\"><title>2406114427288-&gt;2406114427176</title>\n",
       "<path d=\"M108.5,-438.313C108.5,-430.289 108.5,-420.547 108.5,-411.569\" fill=\"none\" stroke=\"black\"/>\n",
       "<polygon fill=\"black\" points=\"112,-411.529 108.5,-401.529 105,-411.529 112,-411.529\" stroke=\"black\"/>\n",
       "</g>\n",
       "<!-- 2406114709344 -->\n",
       "<g class=\"node\" id=\"node4\"><title>2406114709344</title>\n",
       "<polygon fill=\"none\" points=\"31.5,-292.5 31.5,-328.5 185.5,-328.5 185.5,-292.5 31.5,-292.5\" stroke=\"black\"/>\n",
       "<text font-family=\"Times New Roman,serif\" font-size=\"14.00\" text-anchor=\"middle\" x=\"108.5\" y=\"-306.8\">bn0: BatchNormalization</text>\n",
       "</g>\n",
       "<!-- 2406114427176&#45;&gt;2406114709344 -->\n",
       "<g class=\"edge\" id=\"edge3\"><title>2406114427176-&gt;2406114709344</title>\n",
       "<path d=\"M108.5,-365.313C108.5,-357.289 108.5,-347.547 108.5,-338.569\" fill=\"none\" stroke=\"black\"/>\n",
       "<polygon fill=\"black\" points=\"112,-338.529 108.5,-328.529 105,-338.529 112,-338.529\" stroke=\"black\"/>\n",
       "</g>\n",
       "<!-- 2406114709288 -->\n",
       "<g class=\"node\" id=\"node5\"><title>2406114709288</title>\n",
       "<polygon fill=\"none\" points=\"34.5,-219.5 34.5,-255.5 182.5,-255.5 182.5,-219.5 34.5,-219.5\" stroke=\"black\"/>\n",
       "<text font-family=\"Times New Roman,serif\" font-size=\"14.00\" text-anchor=\"middle\" x=\"108.5\" y=\"-233.8\">activation_1: Activation</text>\n",
       "</g>\n",
       "<!-- 2406114709344&#45;&gt;2406114709288 -->\n",
       "<g class=\"edge\" id=\"edge4\"><title>2406114709344-&gt;2406114709288</title>\n",
       "<path d=\"M108.5,-292.313C108.5,-284.289 108.5,-274.547 108.5,-265.569\" fill=\"none\" stroke=\"black\"/>\n",
       "<polygon fill=\"black\" points=\"112,-265.529 108.5,-255.529 105,-265.529 112,-265.529\" stroke=\"black\"/>\n",
       "</g>\n",
       "<!-- 2406114708616 -->\n",
       "<g class=\"node\" id=\"node6\"><title>2406114708616</title>\n",
       "<polygon fill=\"none\" points=\"26.5,-146.5 26.5,-182.5 190.5,-182.5 190.5,-146.5 26.5,-146.5\" stroke=\"black\"/>\n",
       "<text font-family=\"Times New Roman,serif\" font-size=\"14.00\" text-anchor=\"middle\" x=\"108.5\" y=\"-160.8\">max_pool: MaxPooling2D</text>\n",
       "</g>\n",
       "<!-- 2406114709288&#45;&gt;2406114708616 -->\n",
       "<g class=\"edge\" id=\"edge5\"><title>2406114709288-&gt;2406114708616</title>\n",
       "<path d=\"M108.5,-219.313C108.5,-211.289 108.5,-201.547 108.5,-192.569\" fill=\"none\" stroke=\"black\"/>\n",
       "<polygon fill=\"black\" points=\"112,-192.529 108.5,-182.529 105,-192.529 112,-192.529\" stroke=\"black\"/>\n",
       "</g>\n",
       "<!-- 2406115280936 -->\n",
       "<g class=\"node\" id=\"node7\"><title>2406115280936</title>\n",
       "<polygon fill=\"none\" points=\"54,-73.5 54,-109.5 163,-109.5 163,-73.5 54,-73.5\" stroke=\"black\"/>\n",
       "<text font-family=\"Times New Roman,serif\" font-size=\"14.00\" text-anchor=\"middle\" x=\"108.5\" y=\"-87.8\">flatten_1: Flatten</text>\n",
       "</g>\n",
       "<!-- 2406114708616&#45;&gt;2406115280936 -->\n",
       "<g class=\"edge\" id=\"edge6\"><title>2406114708616-&gt;2406115280936</title>\n",
       "<path d=\"M108.5,-146.313C108.5,-138.289 108.5,-128.547 108.5,-119.569\" fill=\"none\" stroke=\"black\"/>\n",
       "<polygon fill=\"black\" points=\"112,-119.529 108.5,-109.529 105,-119.529 112,-119.529\" stroke=\"black\"/>\n",
       "</g>\n",
       "<!-- 2406115656424 -->\n",
       "<g class=\"node\" id=\"node8\"><title>2406115656424</title>\n",
       "<polygon fill=\"none\" points=\"74,-0.5 74,-36.5 143,-36.5 143,-0.5 74,-0.5\" stroke=\"black\"/>\n",
       "<text font-family=\"Times New Roman,serif\" font-size=\"14.00\" text-anchor=\"middle\" x=\"108.5\" y=\"-14.8\">fc: Dense</text>\n",
       "</g>\n",
       "<!-- 2406115280936&#45;&gt;2406115656424 -->\n",
       "<g class=\"edge\" id=\"edge7\"><title>2406115280936-&gt;2406115656424</title>\n",
       "<path d=\"M108.5,-73.3129C108.5,-65.2895 108.5,-55.5475 108.5,-46.5691\" fill=\"none\" stroke=\"black\"/>\n",
       "<polygon fill=\"black\" points=\"112,-46.5288 108.5,-36.5288 105,-46.5289 112,-46.5288\" stroke=\"black\"/>\n",
       "</g>\n",
       "</g>\n",
       "</svg>"
      ],
      "text/plain": [
       "<IPython.core.display.SVG object>"
      ]
     },
     "execution_count": 9,
     "metadata": {},
     "output_type": "execute_result"
    }
   ],
   "source": [
    "%matplotlib inline\n",
    "plot_model(happy_model, to_file='happy_model.png')\n",
    "SVG(model_to_dot(happy_model).create(prog='dot', format='svg'))\n"
   ]
  }
 ],
 "metadata": {
  "kernelspec": {
   "display_name": "dl_exercise",
   "language": "python",
   "name": "dl_py36_study"
  },
  "language_info": {
   "codemirror_mode": {
    "name": "ipython",
    "version": 3
   },
   "file_extension": ".py",
   "mimetype": "text/x-python",
   "name": "python",
   "nbconvert_exporter": "python",
   "pygments_lexer": "ipython3",
   "version": "3.6.9"
  }
 },
 "nbformat": 4,
 "nbformat_minor": 2
}
