{
 "cells": [
  {
   "cell_type": "code",
   "execution_count": null,
   "metadata": {},
   "outputs": [],
   "source": [
    "import numpy as np\n",
    "from keras import layers\n",
    "from keras.layers import Input, Dense, Activation, ZeroPadding2D, BatchNormalization, Flatten, Conv2D\n",
    "from keras.layers import AveragePooling2D, MaxPooling2D, Dropout, GlobalMaxPooling2D, GlobalAveragePooling2D\n",
    "from keras.models import Model\n",
    "from keras.preprocessing import image\n",
    "from keras.utils import layer_utils\n",
    "from keras.utils.data_utils import get_file\n",
    "from keras.applications.imagenet_utils import preprocess_input\n",
    "import pydot\n",
    "from IPython.display import SVG\n",
    "from keras.utils.vis_utils import model_to_dot\n",
    "from keras.utils import plot_model\n",
    "import kt_utils\n",
    "import keras.backend as k\n",
    "k.set_image_data_format('channels_last')\n",
    "import matplotlib.pyplot as plt\n",
    "from matplotlib.pyplot import imshow\n",
    "%matplotlib inline"
   ]
  },
  {
   "cell_type": "code",
   "execution_count": null,
   "metadata": {},
   "outputs": [],
   "source": [
    "X_train_orig, Y_train_orig, X_test_orig, Y_test_orig, classes = kt_utils.load_dataset()\n",
    "X_train = X_train_orig / 255\n",
    "X_test = X_test_orig / 255\n",
    "\n",
    "Y_train = Y_train_orig.T\n",
    "Y_test = Y_test_orig.T\n",
    "\n",
    "\n",
    "print (\"number of training examples = \" + str(X_train.shape[0]))\n",
    "print (\"number of test examples = \" + str(X_test.shape[0]))\n",
    "print (\"X_train shape: \" + str(X_train.shape))\n",
    "print (\"Y_train shape: \" + str(Y_train.shape))\n",
    "print (\"X_test shape: \" + str(X_test.shape))\n",
    "print (\"Y_test shape: \" + str(Y_test.shape))\n"
   ]
  },
  {
   "cell_type": "code",
   "execution_count": null,
   "metadata": {},
   "outputs": [],
   "source": [
    "def model(input_shape):\n",
    "    X_input = Input(input_shape)  # 定义一个tensor的placeholder，维度为input_shape\n",
    "    X = ZeroPadding2D((3, 3))(X_input)  # 使用0填充，X_input周围填充0\n",
    "    # CONV -> BN -> RELU\n",
    "    X = Conv2D(32, (7, 7), strides = (1, 1), name = 'conv0')(X)\n",
    "    X = BatchNormalization(axis = 3, name = 'bn0')(X)\n",
    "    X = Activation('relu')(X)\n",
    "    \n",
    "    # 最大值池化层\n",
    "    X = MaxPooling2D((2, 2), name = \"max_pool\")(X)\n",
    "    # 矩阵转为向量，加上全连接层\n",
    "    X = Flatten()(X)\n",
    "    X = Dense(1, activation = 'sigmoid', name = 'fc')(X)\n",
    "    \n",
    "    model = Model(inputs = X_input, outputs = X, name = 'HappyModel') # 创建模型\n",
    "    \n",
    "    return model"
   ]
  },
  {
   "cell_type": "code",
   "execution_count": null,
   "metadata": {},
   "outputs": [],
   "source": [
    "# def HappyModel(input_shape):\n",
    "#     X_input = Input(input_shape)\n",
    "#     X = ZeroPadding2D((3, 3))(X_input)\n",
    "#     X = Conv2D(32, (7, 7), strides = (1, 1), name = 'conv0')(X)\n",
    "#     X = BatchNormalization(axis = 3, name = 'bn0')(X)\n",
    "#     X = Activation('relu')(X)\n",
    "#     X = MaxPooling2D((2, 2), name = \"max_pool\")(X)\n",
    "#     X = Dense(1, activation = 'sigmoid', name = 'fc')(X)\n",
    "#     model = Model(inputs = X_input, outputs = X, name = 'HappyModel')\n",
    "#     return model\n",
    "\n",
    "def HappyModel(input_shape):\n",
    "\n",
    "    \n",
    "    #你可以参考和上面的大纲\n",
    "    X_input = Input(input_shape)\n",
    "\n",
    "    #使用0填充：X_input的周围填充0\n",
    "    X = ZeroPadding2D((3, 3))(X_input)\n",
    "\n",
    "    #对X使用 CONV -> BN -> RELU 块\n",
    "    X = Conv2D(32, (7, 7), strides=(1, 1), name='conv0')(X)\n",
    "    X = BatchNormalization(axis=3, name='bn0')(X)\n",
    "    X = Activation('relu')(X)\n",
    "\n",
    "    #最大值池化层\n",
    "    X = MaxPooling2D((2, 2), name='max_pool')(X)\n",
    "\n",
    "    #降维，矩阵转化为向量 + 全连接层\n",
    "    X = Flatten()(X)\n",
    "    X = Dense(1, activation='sigmoid', name='fc')(X)\n",
    "\n",
    "    #创建模型，讲话创建一个模型的实体，我们可以用它来训练、测试。\n",
    "    model = Model(inputs=X_input, outputs=X, name='HappyModel')\n",
    "\n",
    "    return model\n"
   ]
  },
  {
   "cell_type": "markdown",
   "metadata": {},
   "source": [
    "**训练测试模型**：\n",
    "1. 创建一个模型实体\n",
    "2. 选择模型优化方法 ：model.compile(optimizer =  , loss = , metrics = )\n",
    "3. 训练模型：model.fit(x = ,  y =  ,epochs = , batch_size = )\n",
    "4. 评估模型：model.evaluate(x = , y = )"
   ]
  },
  {
   "cell_type": "code",
   "execution_count": null,
   "metadata": {},
   "outputs": [],
   "source": [
    "# happy_model = HappyModel(X_train.shape[1:])\n",
    "# happy_model.compile(\"adam\",\"binary_crossentropy\", metrics = ['accuracy'])\n",
    "# happy_model.fit(X_train, Y_train, epochs = 40, batch_size = 50)  # 训练模型\n",
    "# preds = happy_model.evaluate(X_test, Y_test, batch_size = 32, verbose = 1, sample_weight = None)  # verbose = 1 输出进度条记录\n",
    "# print(\"loss:\" + str(preds[\"0\"]))\n",
    "# print(\"accuracy:\" + str(preds[\"1\"]))\n",
    "\n",
    "#创建一个模型实体\n",
    "happy_model = HappyModel(X_train.shape[1:])\n",
    "#编译模型\n",
    "happy_model.compile(\"adam\",\"binary_crossentropy\", metrics=['accuracy'])\n",
    "#训练模型\n",
    "#请注意，此操作会花费你大约6-10分钟。\n",
    "happy_model.fit(X_train, Y_train, epochs=40, batch_size=50)\n",
    "#评估模型\n",
    "preds = happy_model.evaluate(X_test, Y_test, batch_size=32, verbose=1, sample_weight=None)\n",
    "print (\"误差值 = \" + str(preds[0]))\n",
    "print (\"准确度 = \" + str(preds[1]))\n"
   ]
  }
 ],
 "metadata": {
  "kernelspec": {
   "display_name": "DL_exercise(env=py36)",
   "language": "python",
   "name": "py36"
  },
  "language_info": {
   "codemirror_mode": {
    "name": "ipython",
    "version": 3
   },
   "file_extension": ".py",
   "mimetype": "text/x-python",
   "name": "python",
   "nbconvert_exporter": "python",
   "pygments_lexer": "ipython3",
   "version": "3.6.9"
  }
 },
 "nbformat": 4,
 "nbformat_minor": 2
}
