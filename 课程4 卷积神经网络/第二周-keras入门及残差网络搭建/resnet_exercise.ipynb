{
 "cells": [
  {
   "cell_type": "code",
   "execution_count": null,
   "metadata": {},
   "outputs": [],
   "source": [
    "\n",
    "import numpy as np\n",
    "import tensorflow as tf\n",
    "\n",
    "from keras import layers\n",
    "from keras.layers import Input, Add, Dense, Activation, ZeroPadding2D, BatchNormalization, Flatten, Conv2D, AveragePooling2D, MaxPooling2D, GlobalMaxPooling2D\n",
    "from keras.models import Model, load_model\n",
    "from keras.preprocessing import image\n",
    "from keras.utils import layer_utils\n",
    "from keras.utils.data_utils import get_file\n",
    "from keras.applications.imagenet_utils import preprocess_input\n",
    "from keras.utils.vis_utils import model_to_dot\n",
    "from keras.utils import plot_model\n",
    "from keras.initializers import glorot_uniform\n",
    "\n",
    "import pydot\n",
    "from IPython.display import SVG\n",
    "import scipy.misc\n",
    "from matplotlib.pyplot import imshow\n",
    "import keras.backend as K\n",
    "K.set_image_data_format('channels_last')\n",
    "K.set_learning_phase(1)\n",
    "\n",
    "import resnets_utils \n"
   ]
  },
  {
   "cell_type": "code",
   "execution_count": null,
   "metadata": {},
   "outputs": [],
   "source": [
    "def identity_block(X, f, filters, stage, block):\n",
    "    conv_name_base = \"conv\" + str(stage) + block + \"_branch\"\n",
    "    bn_name_base = \"bn\" + str(stage) + block + \"_branch\"\n",
    "    F1, F2, F3 = filters\n",
    "    X_shortcut = X\n",
    "    # 卷积1\n",
    "    X = Conv2D(filters = F1, kernel_size = (1, 1), strides = (1, 1), padding = \"valid\", \n",
    "              name = conv_name_base + \"2a\", kernel_initializer = glorot_uniform(seed = 0))(X)\n",
    "    X = BatchNormalization(axis = 3, name = bn_name_base + \"2a\")(X)\n",
    "    X = Activation(\"relu\")(X)\n",
    "    # 卷积2\n",
    "    X = Conv2D(filters = F2, kernel_size = (f, f), strides = (1, 1), padding = \"same\",\n",
    "              name = conv_name_base + \"2b\", kernel_initializer = glorot_uniform(seed = 0))(X)\n",
    "    X = BatchNormalization(axis = 3, name = bn_name_base + \"2b\")(X)\n",
    "    X = Activation(\"relu\")(X)\n",
    "    # 卷积3\n",
    "    X = Conv2D(filters = F3, kernel_size = (1, 1), strides = (1, 1), padding = \"valid\", \n",
    "              name = conv_name_base + \"2c\", kernel_initializer = glorot_uniform(seed = 0))(X)\n",
    "    X = BatchNormalization(axis = 3, name = bn_name_base + \"2c\")(X)\n",
    "    \n",
    "    # 相加\n",
    "    X = Add()([X, X_shortcut])\n",
    "    X = Activation(\"relu\")(X)\n",
    "    \n",
    "    return X    "
   ]
  },
  {
   "cell_type": "code",
   "execution_count": null,
   "metadata": {},
   "outputs": [],
   "source": [
    "tf.reset_default_graph()\n",
    "with tf.Session() as test:\n",
    "    np.random.seed(1)\n",
    "    A_prev = tf.placeholder(\"float\",[3,4,4,6])\n",
    "    X = np.random.randn(3,4,4,6)\n",
    "    A = identity_block(A_prev,f=2,filters=[2,4,6],stage=1,block=\"a\")\n",
    "    \n",
    "    test.run(tf.global_variables_initializer())\n",
    "    out = test.run([A],feed_dict={A_prev:X,K.learning_phase():0})\n",
    "    print(\"out = \" + str(out[0][1][1][0]))\n",
    "    \n",
    "    test.close()\n"
   ]
  },
  {
   "cell_type": "code",
   "execution_count": null,
   "metadata": {},
   "outputs": [],
   "source": [
    "def convolutional_block(X, f, filters, stage, block, s = 2):\n",
    "    conv_name_base = \"conv\" + str(stage) + block + \"_brach\"\n",
    "    bn_name_base = \"bn\" + str(stage) + block + \"_branch\"\n",
    "    F1, F2, F3 = filters\n",
    "    X_shortcut = X\n",
    "    \"\"\"\n",
    "    strides = 1和valid，卷积前后尺寸不变\n",
    "    \"\"\"\n",
    "    \n",
    "    # 卷积1\n",
    "    X = Conv2D(filters = F1, kernel_size = (1, 1), strides = (s, s), padding = \"valid\",\n",
    "              name = conv_name_base + \"2a\", kernel_initializer = glorot_uniform(seed = 0))(X)\n",
    "    X = BatchNormalization(axis = 3, name = bn_name_base + \"2a\")(X)\n",
    "    X = Activation(\"relu\")(X)\n",
    "    # 卷积2\n",
    "    X = Conv2D(filters = F2, kernel_size = (f, f), strides = (1, 1), padding = \"same\", \n",
    "              name = conv_name_base + \"2b\", kernel_initializer = glorot_uniform(seed = 0))(X)\n",
    "    X = BatchNormalization(axis = 3, name = bn_name_base + \"2b\")(X)\n",
    "    X = Activation(\"relu\")(X)\n",
    "    # 卷积3\n",
    "    X = Conv2D(filters = F3, kernel_size = (1, 1), strides = (1, 1), padding = \"valid\", \n",
    "              name = conv_name_base + \"2c\", kernel_initializer = glorot_uniform(seed = 0))(X)\n",
    "    X = BatchNormalization(axis = 3, name = bn_name_base + \"2c\")(X)\n",
    "    # shortcut\n",
    "    X_shortcut = Conv2D(filters = F3, kernel_size = (1, 1), strides = (s, s), padding = \"valid\",\n",
    "                       name = conv_name_base + \"1\", kernel_initializer = glorot_uniform(seed = 0))(X_shortcut)\n",
    "    X_shortcut = BatchNormalization(axis = 3, name = bn_name_base + \"1\")(X_shortcut)\n",
    "    \n",
    "    X = Add()([X, X_shortcut])\n",
    "    X = Activation(\"relu\")(X)\n",
    "    \n",
    "    return X"
   ]
  },
  {
   "cell_type": "code",
   "execution_count": null,
   "metadata": {},
   "outputs": [],
   "source": [
    "tf.reset_default_graph()\n",
    "\n",
    "with tf.Session() as test:\n",
    "    np.random.seed(1)\n",
    "    A_prev = tf.placeholder(\"float\",[3,4,4,6])\n",
    "    X = np.random.randn(3,4,4,6)\n",
    "    \n",
    "    A = convolutional_block(A_prev,f=2,filters=[2,4,6],stage=1,block=\"a\")\n",
    "    test.run(tf.global_variables_initializer())\n",
    "    \n",
    "    out = test.run([A],feed_dict={A_prev:X,K.learning_phase():0})\n",
    "    print(\"out = \" + str(out[0][1][1][0]))\n",
    "    \n",
    "    test.close()\n"
   ]
  },
  {
   "cell_type": "code",
   "execution_count": null,
   "metadata": {},
   "outputs": [],
   "source": [
    "def Resnet50(input_shape = (64, 64, 3), classes = 6):\n",
    "    # 输入\n",
    "    X_input = Input(input_shape)\n",
    "    # ZERO PADDING\n",
    "    X = ZeroPadding2D((3, 3))(X_input)\n",
    "    # stage1\n",
    "    X = Conv2D(filters = 64, kernel_size = (7, 7), strides = (2, 2),\n",
    "              name = \"conv1\", kernel_initializer = glorot_uniform(seed = 0))(X)\n",
    "    X = BatchNormalization(axis = 3, name = \"bn_conv1\")(X)\n",
    "    X = Activation(\"relu\")(X)\n",
    "    X = MaxPooling2D(pool_size=(3,3), strides=(2,2))(X)\n",
    "    # stage2\n",
    "    X = convolutional_block(X, f = 3, filters = [64, 64, 256], stage = 2, block = \"a\", s = 1)\n",
    "    X = identity_block(X, f = 3, filters = [64, 64, 256], stage = 2, block = \"b\")\n",
    "    X = identity_block(X, f = 3, filters = [64, 64, 256], stage = 2, block = \"c\")\n",
    "    # stage3\n",
    "    X = convolutional_block(X, f = 3, filters = [128, 128, 512], stage = 3, block = \"a\", s = 2)\n",
    "    X = identity_block(X, f = 3, filters = [128, 128, 512], stage = 3, block = \"b\")\n",
    "    X = identity_block(X, f = 3, filters = [128, 128, 512], stage = 3, block = \"c\")\n",
    "    X = identity_block(X, f = 3, filters = [128, 128, 512], stage = 3, block = \"d\")\n",
    "    # stage4\n",
    "    X = convolutional_block(X, f = 3, filters = [256, 256, 1024], stage = 4, block = \"a\", s = 2)\n",
    "    X = identity_block(X, f = 3, filters = [256, 256, 1024], stage = 4, block = \"b\")\n",
    "    X = identity_block(X, f = 3, filters = [256, 256, 1024], stage = 4, block = \"c\")\n",
    "    X = identity_block(X, f = 3, filters = [256, 256, 1024], stage = 4, block = \"d\")\n",
    "    X = identity_block(X, f = 3, filters = [256, 256, 1024], stage = 4, block = \"e\")\n",
    "    X = identity_block(X, f = 3, filters = [256, 256, 1024], stage = 4, block = \"f\")\n",
    "    # stage5\n",
    "    X = convolutional_block(X, f = 3, filters = [512, 512, 2048], stage = 5, block = \"a\", s = 2)\n",
    "    X = identity_block(X, f = 3, filters = [512, 512, 2048], stage = 5, block = \"b\")\n",
    "    X = identity_block(X, f = 3, filters = [512, 512, 2048], stage = 5, block = \"c\")\n",
    "    # stage6\n",
    "    X = AveragePooling2D(pool_size = (2, 2), padding = \"same\")(X)\n",
    "    # 输出\n",
    "    X = Flatten()(X)\n",
    "    X = Dense(classes, activation = \"softmax\", name = \"fc\" + str(classes),\n",
    "             kernel_initializer = glorot_uniform(seed = 0))(X)\n",
    "    # 创建模型\n",
    "    model = Model(inputs = X_input, outputs = X, name = \"ResNet50\")\n",
    "    \n",
    "    return model"
   ]
  },
  {
   "cell_type": "code",
   "execution_count": null,
   "metadata": {},
   "outputs": [],
   "source": [
    "model = Resnet50(input_shape = (64, 64, 3), classes = 6)\n",
    "model.compile(optimizer = \"adam\", loss = \"categorical_crossentropy\", metrics=[\"accuracy\"])"
   ]
  },
  {
   "cell_type": "code",
   "execution_count": null,
   "metadata": {},
   "outputs": [],
   "source": [
    "X_train_orig, Y_train_orig, X_test_orig, Y_test_orig, classes = resnets_utils.load_dataset()\n",
    "\n",
    "# Normalize image vectors\n",
    "X_train = X_train_orig / 255.\n",
    "X_test = X_test_orig / 255.\n",
    "\n",
    "# Convert training and test labels to one hot matrices\n",
    "Y_train = resnets_utils.convert_to_one_hot(Y_train_orig, 6).T\n",
    "Y_test = resnets_utils.convert_to_one_hot(Y_test_orig, 6).T\n",
    "\n",
    "print(\"number of training examples = \" + str(X_train.shape[0]))\n",
    "print(\"number of test examples = \" + str(X_test.shape[0]))\n",
    "print(\"X_train shape: \" + str(X_train.shape))\n",
    "print(\"Y_train shape: \" + str(Y_train.shape))\n",
    "print(\"X_test shape: \" + str(X_test.shape))\n",
    "print(\"Y_test shape: \" + str(Y_test.shape))\n"
   ]
  },
  {
   "cell_type": "code",
   "execution_count": null,
   "metadata": {},
   "outputs": [],
   "source": [
    "model.fit(X_train, Y_train, epochs = 2, batch_size = 32)"
   ]
  },
  {
   "cell_type": "code",
   "execution_count": null,
   "metadata": {},
   "outputs": [],
   "source": [
    "preds = model.evaluate(X_test,Y_test)\n",
    "\n",
    "print(\"误差值 = \" + str(preds[0]))\n",
    "print(\"准确率 = \" + str(preds[1]))\n",
    "\n"
   ]
  },
  {
   "cell_type": "code",
   "execution_count": null,
   "metadata": {},
   "outputs": [],
   "source": [
    "#加载模型\n",
    "model = load_model(\"ResNet50.h5\") \n",
    "preds = model.evaluate(X_test,Y_test)\n",
    "print(\"误差值 = \" + str(preds[0]))\n",
    "print(\"准确率 = \" + str(preds[1]))\n"
   ]
  },
  {
   "cell_type": "code",
   "execution_count": null,
   "metadata": {},
   "outputs": [],
   "source": [
    "# 测试自己的图片\n",
    "from PIL import Image\n",
    "import numpy as np\n",
    "import matplotlib.pyplot as plt\n",
    "%matplotlib inline\n",
    "img_path = \"image/two.jpg\"\n",
    "\n",
    "\n",
    "img = image.load_img(img_path, target_size = (64, 64))  # 读出来是PIL类型\n",
    "imshow(img)\n",
    "print(\"(image.load_img),img.shape = {} and img.type = {}\".format(None, type(img)))\n",
    "img = image.img_to_array(img)\n",
    "print(\"(image.img_to_array),img.shape = {} and img.type = {}\".format(img.shape, type(img)))\n",
    "img = np.expand_dims(img, axis = 0)\n",
    "print(\"(np.expand_dims),img.shape = {} and img.type = {}\".format(img.shape, type(img)))\n",
    "img = preprocess_input(img)\n",
    "print(\"(preprocess_input),img.shape = {} and img.type = {}\".format(img.shape, type(img)))\n",
    "print(\"{}\".format('-'*10))\n",
    "print(model.predict(img))\n",
    "#img = scipy.misc.imread(img_path)\n"
   ]
  },
  {
   "cell_type": "code",
   "execution_count": null,
   "metadata": {},
   "outputs": [],
   "source": [
    "model.summary()"
   ]
  },
  {
   "cell_type": "code",
   "execution_count": null,
   "metadata": {},
   "outputs": [],
   "source": [
    "plot_model(model, to_file='model.png')\n",
    "SVG(model_to_dot(model).create(prog='dot', format='svg'))"
   ]
  }
 ],
 "metadata": {
  "kernelspec": {
   "display_name": "DL_exercise(env=py36)",
   "language": "python",
   "name": "py36"
  },
  "language_info": {
   "codemirror_mode": {
    "name": "ipython",
    "version": 3
   },
   "file_extension": ".py",
   "mimetype": "text/x-python",
   "name": "python",
   "nbconvert_exporter": "python",
   "pygments_lexer": "ipython3",
   "version": "3.6.9"
  }
 },
 "nbformat": 4,
 "nbformat_minor": 2
}
