{
 "cells": [
  {
   "cell_type": "code",
   "execution_count": null,
   "metadata": {},
   "outputs": [],
   "source": [
    "import argparse\n",
    "import os\n",
    "import matplotlib.pyplot as plt\n",
    "from matplotlib.pyplot import imshow\n",
    "import scipy.io\n",
    "import scipy.misc\n",
    "import numpy as np\n",
    "import pandas as pd\n",
    "import PIL\n",
    "import tensorflow as tf\n",
    "from keras import backend as K\n",
    "from keras.layers import Input, Lambda, Conv2D\n",
    "from keras.models import load_model, Model\n",
    "from yad2k.models.keras_yolo import yolo_head, yolo_boxes_to_corners, preprocess_true_boxes, yolo_loss, yolo_body\n",
    "import yolo_utils\n",
    "from PIL import Image\n",
    "import cv2\n",
    "import imageio\n",
    "%matplotlib inline"
   ]
  },
  {
   "cell_type": "code",
   "execution_count": null,
   "metadata": {},
   "outputs": [],
   "source": [
    "def yolo_filter_boxes(box_confidence, boxes, box_class_probs, threshold = 0.6):\n",
    "    \"\"\"\n",
    "    box_confidence: 每个格子的每个anchor有物体的概率，（19*19， 5， 1）\n",
    "    boxes: 每个格子的每个anchor位置参数，（19*19， 5， 4）\n",
    "    box_class_probs: 每个格子的每个anchor每个类别的概率， （19*19， 5， 80）\n",
    "    \"\"\"\n",
    "    box_scores = box_confidence*box_class_probs  # 每个格子的每个anchor每个类别的得分 (19*19, 5, 80)\n",
    "    \n",
    "    box_classes = K.argmax(box_scores, axis = -1)  # 每个格子的每个anchor得分最高的那个类别的索引 （19*19， 5）\n",
    "    box_class_scores = K.max(box_scores, axis = -1) # 每个格子的每个anchor得分最高的那个类别的得分值(19*19, 5)\n",
    "    \n",
    "    filtering_mask = (box_class_scores >= threshold) # (19*19, 5) True or False 决定了哪个格子的哪个anchor该去掉\n",
    "    \n",
    "    scores = tf.boolean_mask(box_class_scores, filtering_mask) #  把得分低的去掉 ，记录了留下来的anchor得分 ,shape:(?, )\n",
    "    print(\"score.shape = \", scores.shape)\n",
    "    boxes =  tf.boolean_mask(boxes, filtering_mask)  # 把得分低的去掉， 记录了留下来的anchor的位置，shape:（？，4）\n",
    "    print(\"boxes.shape = \", boxes.shape)\n",
    "    classes = tf.boolean_mask(box_classes, filtering_mask) # 把得分低的去掉， 记录了留下来的anchor最可能是哪个类别（索引）， shape：（？，）\n",
    "    return scores, boxes, classes\n",
    "    "
   ]
  },
  {
   "cell_type": "code",
   "execution_count": null,
   "metadata": {},
   "outputs": [],
   "source": [
    "with tf.Session() as test_a:\n",
    "    box_confidence = tf.random_normal([19,19,5,1], mean=1, stddev=4, seed=1)\n",
    "    boxes = tf.random_normal([19,19,5,4],  mean=1, stddev=4, seed=1)\n",
    "    box_class_probs = tf.random_normal([19, 19, 5, 80], mean=1, stddev=4, seed = 1)\n",
    "    scores, boxes, classes = yolo_filter_boxes(box_confidence, boxes, box_class_probs, threshold = 0.5)\n",
    "\n",
    "    print(\"scores[2] = \" + str(scores[2].eval()))\n",
    "    print(\"boxes[2] = \" + str(boxes[2].eval()))\n",
    "    print(\"classes[2] = \" + str(classes[2].eval()))\n",
    "    print(\"scores.shape = \" + str(scores.shape))\n",
    "    print(\"boxes.shape = \" + str(boxes.shape))\n",
    "    print(\"classes.shape = \" + str(classes.shape))\n",
    "\n",
    "    test_a.close()"
   ]
  },
  {
   "cell_type": "code",
   "execution_count": null,
   "metadata": {},
   "outputs": [],
   "source": [
    "def iou(box1, box2):\n",
    "    \"\"\"\n",
    "    关键是找到重叠部分的坐标，左上角比较坐标，取大值；右下角，比较坐标，取小值\n",
    "    \"\"\"\n",
    "    x_left_up = np.maximum(box1[0], box2[0])\n",
    "    y_left_up = np.maximum(box1[1], box2[1])\n",
    "    x_right_down = np.minimum(box1[2], box2[2])\n",
    "    y_right_down = np.minimum(box1[3], box2[2])\n",
    "    \n",
    "    inter_area = (x_right_down - x_left_up) * (y_right_down - y_left_up)\n",
    "    box1_area = (box1[2] - box1[0]) * (box1[3] - box1[1])\n",
    "    box2_area = (box2[2] - box2[0]) * (box2[3] - box2[1])\n",
    "    nuion_area = box1_area + box2_area - inter_area\n",
    "    \n",
    "    iou = inter_area / nuion_area\n",
    "    return iou\n",
    "    "
   ]
  },
  {
   "cell_type": "code",
   "execution_count": null,
   "metadata": {},
   "outputs": [],
   "source": [
    "box1 = (2,1,4,3)\n",
    "box2 = (1,2,3,4)\n",
    "\n",
    "print(\"iou = \" + str(iou(box1, box2)))"
   ]
  },
  {
   "cell_type": "markdown",
   "metadata": {},
   "source": [
    "**非极大值抑制**"
   ]
  },
  {
   "cell_type": "code",
   "execution_count": null,
   "metadata": {},
   "outputs": [],
   "source": [
    "def yolo_non_max_suppression(scores, boxes, classes, max_boxes = 10, iou_theshold = 0.5):\n",
    "    \"\"\"\n",
    "    scores:（None,）,记录了每个框的得分\n",
    "    boxes:(None, 4),记录了每个框的位置\n",
    "    classes：(None, ), 记录了每个框的索引（类别）\n",
    "    max_boxes：预测锚框数量的最大值\n",
    "    返回：\n",
    "    scores：（，None）,每个锚框预测的可能值\n",
    "    boxes：（4， None）， 预测锚框的坐标\n",
    "    classes:(, None), 每个锚框的预测的分类\n",
    "    \"\"\"\n",
    "    max_boxes_tensor = K.variable(max_boxes, dtype = \"int32\") \n",
    "    K.get_session().run(tf.variables_initializer([max_boxes_tensor]))\n",
    "    nms_indices = tf.image.non_max_suppression(boxes, scores, max_boxes, iou_theshold)\n",
    "    \n",
    "    scores = K.gather(scores, nms_indices)\n",
    "    boxes = K.gather(boxes, nms_indices)\n",
    "    classes = K.gather(classes, nms_indices)\n",
    "    \n",
    "    return scores, boxes, classes"
   ]
  },
  {
   "cell_type": "code",
   "execution_count": null,
   "metadata": {},
   "outputs": [],
   "source": [
    "with tf.Session() as test_b:\n",
    "    scores = tf.random_normal([54,], mean=1, stddev=4, seed = 1)\n",
    "    boxes = tf.random_normal([54, 4], mean=1, stddev=4, seed = 1)\n",
    "    classes = tf.random_normal([54,], mean=1, stddev=4, seed = 1)\n",
    "    scores, boxes, classes = yolo_non_max_suppression(scores, boxes, classes)\n",
    "\n",
    "    print(\"scores[2] = \" + str(scores[2].eval()))\n",
    "    print(\"boxes[2] = \" + str(boxes[2].eval()))\n",
    "    print(\"classes[2] = \" + str(classes[2].eval()))\n",
    "    print(\"scores.shape = \" + str(scores.eval().shape))\n",
    "    print(\"boxes.shape = \" + str(boxes.eval().shape))\n",
    "    print(\"classes.shape = \" + str(classes.eval().shape))\n",
    "\n",
    "    test_b.close()"
   ]
  },
  {
   "cell_type": "code",
   "execution_count": null,
   "metadata": {},
   "outputs": [],
   "source": [
    "def yolo_eval(yolo_outputs, image_shape = (720., 1280.), max_boxes = 10, score_threshold = 0.6, iou_theshold = 0.5):\n",
    "    \"\"\"\n",
    "    此函数处理经yolo输出的锚框信息，总的来说，删除不必要的框\n",
    "    \"\"\"\n",
    "    # 获取yolo模型的输出\n",
    "    box_confidence, box_xy, box_wh, box_class_probs = yolo_outputs\n",
    "    # 中心点转换为角\n",
    "    boxes = yolo_boxes_to_corners(box_xy, box_wh)\n",
    "    \n",
    "    scores, boxes, classes = yolo_filter_boxes(box_confidence, boxes, box_class_probs, score_threshold)\n",
    "    boxes = yolo_utils.scale_boxes(boxes, image_shape)\n",
    "    scores, boxes, classes = yolo_non_max_suppression(scores, boxes, classes, max_boxes, iou_theshold) # nms\n",
    "    return scores, boxes, classes  "
   ]
  },
  {
   "cell_type": "code",
   "execution_count": null,
   "metadata": {},
   "outputs": [],
   "source": [
    "with tf.Session() as test_c:\n",
    "    yolo_outputs = (tf.random_normal([19, 19, 5, 1], mean=1, stddev=4, seed = 1),\n",
    "                    tf.random_normal([19, 19, 5, 2], mean=1, stddev=4, seed = 1),\n",
    "                    tf.random_normal([19, 19, 5, 2], mean=1, stddev=4, seed = 1),\n",
    "                    tf.random_normal([19, 19, 5, 80], mean=1, stddev=4, seed = 1))\n",
    "    scores, boxes, classes = yolo_eval(yolo_outputs)\n",
    "\n",
    "    print(\"scores[2] = \" + str(scores[2].eval()))\n",
    "    print(\"boxes[2] = \" + str(boxes[2].eval()))\n",
    "    print(\"classes[2] = \" + str(classes[2].eval()))\n",
    "    print(\"scores.shape = \" + str(scores.eval().shape))\n",
    "    print(\"boxes.shape = \" + str(boxes.eval().shape))\n",
    "    print(\"classes.shape = \" + str(classes.eval().shape))\n",
    "\n",
    "    test_c.close()"
   ]
  },
  {
   "cell_type": "markdown",
   "metadata": {},
   "source": [
    "**加载模型进行测试**"
   ]
  },
  {
   "cell_type": "code",
   "execution_count": null,
   "metadata": {},
   "outputs": [],
   "source": [
    "sess = K.get_session()\n",
    "# 加载类别名字和5个anchor\n",
    "class_names = yolo_utils.read_classes(\"model_data/coco_classes.txt\")\n",
    "print(type(class_names))\n",
    "anchors = yolo_utils.read_anchors(\"model_data/yolo_anchors.txt\")\n",
    "image_shape = (720., 1280.)"
   ]
  },
  {
   "cell_type": "code",
   "execution_count": null,
   "metadata": {},
   "outputs": [],
   "source": [
    "# 加载模型\n",
    "yolo_model = load_model(\"model_data/yolov2.h5\")\n",
    "print(type(yolo_model))"
   ]
  },
  {
   "cell_type": "code",
   "execution_count": null,
   "metadata": {},
   "outputs": [],
   "source": [
    "#yolo_model.summary()"
   ]
  },
  {
   "cell_type": "code",
   "execution_count": null,
   "metadata": {},
   "outputs": [],
   "source": [
    "# 将模型输出转换为边界框\n",
    "yolo_outputs = yolo_head(yolo_model.output, anchors, len(class_names))"
   ]
  },
  {
   "cell_type": "code",
   "execution_count": null,
   "metadata": {},
   "outputs": [],
   "source": [
    "scores, boxes, classes = yolo_eval(yolo_outputs, image_shape)"
   ]
  },
  {
   "cell_type": "code",
   "execution_count": null,
   "metadata": {},
   "outputs": [],
   "source": [
    "def predict(sess, image_file, is_show_info = True, is_plot = True):\n",
    "    # 图像预处理\n",
    "    image, image_data = yolo_utils.preprocess_image(\"images/\" + image_file, model_image_size = (608, 608))\n",
    "    out_scores, out_boxes, out_classes = sess.run([scores, boxes, classes], feed_dict = {yolo_model.input:image_data, K.learning_phase():0})\n",
    "    if is_show_info:\n",
    "        print(\"There are {} boxes in {}\".format(len(out_boxes), image_file))\n",
    "        \n",
    "    colors = yolo_utils.generate_colors(class_names)\n",
    "    yolo_utils.draw_boxes(image, out_scores, out_boxes, out_classes, class_names, colors)\n",
    "    image.save(os.path.join(\"out\", image_file), quality = 100)\n",
    "    if is_plot:\n",
    "#         output_image = cv2.imread(os.path.join(\"out\", image_file))\n",
    "#         output_image = cv2.cvtColor(output_image , cv2.COLOR_BGR2RGB)\n",
    "#         output_image = Image.fromarray(output_image)\n",
    "#         output_image.show()\n",
    "        output_image = imageio.imread(os.path.join(\"out\", image_file))\n",
    "        plt.imshow(output_image)\n",
    "    return out_scores, out_boxes, out_classes"
   ]
  },
  {
   "cell_type": "code",
   "execution_count": null,
   "metadata": {},
   "outputs": [],
   "source": [
    "out_scores, out_boxes, out_classes = predict(sess, \"test.jpg\")"
   ]
  }
 ],
 "metadata": {
  "kernelspec": {
   "display_name": "dl_exercise",
   "language": "python",
   "name": "dl_py36_study"
  },
  "language_info": {
   "codemirror_mode": {
    "name": "ipython",
    "version": 3
   },
   "file_extension": ".py",
   "mimetype": "text/x-python",
   "name": "python",
   "nbconvert_exporter": "python",
   "pygments_lexer": "ipython3",
   "version": "3.6.9"
  }
 },
 "nbformat": 4,
 "nbformat_minor": 2
}
